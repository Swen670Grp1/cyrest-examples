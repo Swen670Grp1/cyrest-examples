{
 "cells": [
  {
   "cell_type": "markdown",
   "metadata": {},
   "source": [
    "# The R workflow of Anne\n",
    "\n",
    "In this jupyter-notebook, I'll show you the R workflow of Anne as the sample.\n",
    "\n",
    "Hi Kei,\n",
    "I don t know if that is the kind of workflow you were looking for, but here\n",
    "is something I have been doing repeatedly lately:\n",
    "\n",
    "- start a new session\n",
    "- upload a network table, an edge attribute table and a node attribute table\n",
    "(all in xls)\n",
    "- select edges based on some edge attributes\n",
    "- hide these edges\n",
    "- select nodes based on some node attributes\n",
    "- hide these nodes\n",
    "- apply a layout the the network that is not hidden\n",
    "- apply a visual style to this network; at this point I do every bit of the\n",
    "visual style manually, but it is always the same. That is because I do not\n",
    "know how to transfer a visual style from one session to the next yet. it\n",
    "would be great if that was automated (I do it manually for one network and\n",
    "then it is automatic for the following ones that have the same exact\n",
    "attributes)\n",
    "\n",
    "Best\n",
    "Anne"
   ]
  },
  {
   "cell_type": "markdown",
   "metadata": {},
   "source": [
    "# Setup\n",
    "\n",
    "To execute this, please sutisfy following items.\n",
    "\n",
    "- Java SE 8\n",
    "- Cytoscape version 3.3+\n",
    "- CyREST\n",
    "- Use docker file to do this. The docker file provide you the environment below.\n",
    "    - RCy3\n",
    "    - igraph\n",
    "    - ..."
   ]
  },
  {
   "cell_type": "markdown",
   "metadata": {},
   "source": [
    "# Start a new session\n",
    "\n",
    "- Please execute cytoscape\n",
    "- Import libraries\n",
    "- Load Data\n",
    "- Shaping data\n",
    "- ..."
   ]
  },
  {
   "cell_type": "code",
   "execution_count": 1,
   "metadata": {
    "collapsed": false
   },
   "outputs": [
    {
     "ename": "NameError",
     "evalue": "name 'library' is not defined",
     "output_type": "error",
     "traceback": [
      "\u001b[0;31m---------------------------------------------------------------------------\u001b[0m",
      "\u001b[0;31mNameError\u001b[0m                                 Traceback (most recent call last)",
      "\u001b[0;32m<ipython-input-1-0ce86ff0c6c0>\u001b[0m in \u001b[0;36m<module>\u001b[0;34m()\u001b[0m\n\u001b[0;32m----> 1\u001b[0;31m \u001b[0mlibrary\u001b[0m\u001b[0;34m(\u001b[0m\u001b[0mRCy3\u001b[0m\u001b[0;34m)\u001b[0m\u001b[0;34m\u001b[0m\u001b[0m\n\u001b[0m\u001b[1;32m      2\u001b[0m \u001b[0mlibrary\u001b[0m\u001b[0;34m(\u001b[0m\u001b[0migraph\u001b[0m\u001b[0;34m)\u001b[0m\u001b[0;34m\u001b[0m\u001b[0m\n",
      "\u001b[0;31mNameError\u001b[0m: name 'library' is not defined"
     ]
    }
   ],
   "source": []
  },
  {
   "cell_type": "code",
   "execution_count": null,
   "metadata": {
    "collapsed": true
   },
   "outputs": [],
   "source": []
  }
 ],
 "metadata": {
  "kernelspec": {
   "display_name": "Python 3",
   "language": "python",
   "name": "python3"
  },
  "language_info": {
   "codemirror_mode": {
    "name": "ipython",
    "version": 3
   },
   "file_extension": ".py",
   "mimetype": "text/x-python",
   "name": "python",
   "nbconvert_exporter": "python",
   "pygments_lexer": "ipython3",
   "version": "3.5.2"
  }
 },
 "nbformat": 4,
 "nbformat_minor": 0
}
