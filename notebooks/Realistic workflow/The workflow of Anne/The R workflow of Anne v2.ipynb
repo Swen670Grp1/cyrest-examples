{
 "cells": [
  {
   "cell_type": "markdown",
   "metadata": {},
   "source": [
    "# Basic Workflow for R\n",
    "---------------------------------------\n",
    "\n",
    "This jupyter-notebook contains basic R workflow for network visualizatin.\n",
    "\n",
    "You can understand the basic workflow by reading this, but the RCy3's documentation is really useful and you can know much more about this.\n",
    "\n",
    "The documentation : https://www.bioconductor.org/packages/release/bioc/html/RCy3.html"
   ]
  },
  {
   "cell_type": "markdown",
   "metadata": {},
   "source": [
    "# Setup\n",
    "---------------------------------------\n",
    "To execute this, please sutisfy following items.\n",
    "\n",
    "- Java SE 8\n",
    "- Cytoscape version 3.3+\n",
    "- CyREST\n",
    "- Use docker file to do this. The docker file provide you the environment below.\n",
    "    - RCy3\n",
    "    - igraph\n",
    "    - ..."
   ]
  },
  {
   "cell_type": "markdown",
   "metadata": {},
   "source": [
    "# Start a new session\n",
    "---------------------------------------\n",
    "To start a new session, you should do the following step.\n",
    "\n",
    "### Steps\n",
    "1. Please execute cytoscape\n",
    "1. Import libraries\n",
    "1. Load Data\n",
    "1. Shaping data\n",
    "\n",
    "# IMPORTANT NOTE\n",
    "\n",
    "If you are running this notebook from a Docker container, you need to specify ***IP address of your machine running Cytoscape***.  Usually, it is the IP address of your laptop/workstation.  Please edit the following line before you run this notebook!\n",
    "\n",
    "```\n",
    "ip_address <- '192.168.1.1'\n",
    "```"
   ]
  },
  {
   "cell_type": "code",
   "execution_count": null,
   "metadata": {
    "collapsed": false,
    "scrolled": true
   },
   "outputs": [],
   "source": [
    "# !!!!!!!!!!!! EDIT  THIS VALUE FIRST!!!!!!!!!!!!!!\n",
    "ip_address <- 'IP_OF_YOUR_MACHINE'\n",
    "ip_address <- '137.110.137.158'\n",
    "\n",
    "library(RCy3)\n",
    "library(igraph)\n",
    "library(RJSONIO)\n",
    "library(httr)\n",
    "library(data.table)\n",
    "\n",
    "\n",
    "# Test Connection to Cytoscape\n",
    "conn <- CytoscapeConnection(host = ip_address)\n",
    "print(conn)\n",
    "\n",
    "# Start from scratch: Delete all networks\n",
    "deleteAllWindows(conn)"
   ]
  },
  {
   "cell_type": "markdown",
   "metadata": {},
   "source": [
    "## Import network table from Data Frame object\n",
    "\n",
    "In this example, we'll use [HumanNet v1]() data sets as the base network.  Also, for convenience, we'll use [data.table](https://github.com/Rdatatable/data.table/wiki) library to import data."
   ]
  },
  {
   "cell_type": "code",
   "execution_count": null,
   "metadata": {
    "collapsed": false
   },
   "outputs": [],
   "source": [
    "# Read as an igraph object\n",
    "humannet.url <- \"http://www.functionalnet.org/humannet/HumanNet.v1.benchmark.txt\"\n",
    "humannet.ig <- read.graph(humannet.url)\n",
    "summary(humannet.ig)"
   ]
  },
  {
   "cell_type": "code",
   "execution_count": null,
   "metadata": {
    "collapsed": false
   },
   "outputs": [],
   "source": [
    "cw <- CytoscapeWindow('vignette', host = ip_address , graph=g, overwrite=TRUE)"
   ]
  },
  {
   "cell_type": "code",
   "execution_count": null,
   "metadata": {
    "collapsed": false,
    "scrolled": false
   },
   "outputs": [],
   "source": [
    "# Load Data\n",
    "gal.table <- read.table('sampleData/galFiltered.sif',stringsAsFactors=FALSE)\n",
    "head(gal.table)"
   ]
  },
  {
   "cell_type": "code",
   "execution_count": null,
   "metadata": {
    "collapsed": false
   },
   "outputs": [],
   "source": [
    "# create graph class\n",
    "g <- new ('graphNEL', edgemode='directed')\n",
    "\n",
    "# Get NodesVec\n",
    "gal.table.nodevec <- unique(c(gal.table[[1]], gal.table[[3]]))\n",
    "\n",
    "# add nodes to graph\n",
    "for(node in gal.table.nodevec){\n",
    "    g <- graph::addNode(node, g)\n",
    "}\n",
    "\n",
    "# get EdgeList\n",
    "gal.table.fromvec = gal.table[[1]]\n",
    "gal.table.tovec = gal.table[[3]]\n",
    "\n",
    "for (index in 1:length(gal.table.fromvec)){\n",
    "    g <- graph::addEdge (gal.table.fromvec[[index]] ,gal.table.tovec[[index]], g)\n",
    "}"
   ]
  },
  {
   "cell_type": "code",
   "execution_count": null,
   "metadata": {
    "collapsed": false
   },
   "outputs": [],
   "source": [
    "# show it in cytescape\n",
    "cw <- CytoscapeWindow('vignette', host = ip_address , graph=g, overwrite=TRUE)\n",
    "displayGraph (cw)\n",
    "layoutNetwork (cw, layout.name='degree-circle')"
   ]
  },
  {
   "cell_type": "markdown",
   "metadata": {},
   "source": [
    "### Option 2: Load from list of URLs\n",
    "\n",
    "Instead of passing actual graph data, you can pass list of file locations to load files into Cytoscape.\n",
    "\n",
    "#### Note:\n",
    "This feature is not implemented in RCy3, so you need to use the following code snippet to do this..."
   ]
  },
  {
   "cell_type": "code",
   "execution_count": null,
   "metadata": {
    "collapsed": false
   },
   "outputs": [],
   "source": [
    "port.number = 1234\n",
    "base.url = paste(\"http://\", ip_address, \":\", toString(port.number), \"/v1/\", sep=\"\")\n",
    "res <-GET(base.url)\n",
    "rawToChar(res$content)"
   ]
  },
  {
   "cell_type": "code",
   "execution_count": null,
   "metadata": {
    "collapsed": false
   },
   "outputs": [],
   "source": [
    "network.url = paste(base.url, \"networks?source=url&collection=FromR\", sep=\"\")\n",
    "\n",
    "urls <-c(\n",
    "    'file:///Users/kono/git/cyrest-examples/notebooks/cookbook/sampleData/galFiltered.sif',\n",
    "    'file:///Users/kono/git/cyrest-examples/notebooks/cookbook/sampleData/galFiltered.gml'\n",
    ")"
   ]
  },
  {
   "cell_type": "code",
   "execution_count": null,
   "metadata": {
    "collapsed": false
   },
   "outputs": [],
   "source": [
    "res <- POST(url=network.url, body=toJSON(urls), encode=\"json\")\n",
    "network.suid = unname(fromJSON(rawToChar(res$content)))\n",
    "print(network.suid)"
   ]
  },
  {
   "cell_type": "markdown",
   "metadata": {},
   "source": [
    "Then, you can get this image in cytoscape.\n",
    "\n",
    "![cytoscape image](graph_image.jpeg)"
   ]
  },
  {
   "cell_type": "markdown",
   "metadata": {},
   "source": [
    "# Upload  a node attribute table.\n",
    "\n",
    "---------------------------------------\n",
    "\n",
    "## Import Annotation Data from bioconductor and merge it into Network data\n",
    "---------------------------------------\n",
    "\n",
    "In this example of workflow, by executing the following steps, you can load annotation data and merge it.\n",
    "\n",
    "1. First, import network data from local file/URL to Cytoscape.\n",
    "1. Second, import annotation data from database(in R, we can use bioconductor as database).\n",
    "  - Human database in bioconductor:\n",
    "  - https://www.bioconductor.org/packages/release/data/annotation/html/org.Hs.eg.db.html\n",
    "  - Yeast database in bioconductor :\n",
    "  - https://www.bioconductor.org/packages/release/data/annotation/html/org.Sc.sgd.db.html\n",
    "1. Finally, merge the above two data table and push it to Cytoscape.\n",
    "\n",
    "Now, we use the data file 'galFiltered.sif' that is the yeast data. So, we will try to add annotation data to this.\n"
   ]
  },
  {
   "cell_type": "code",
   "execution_count": null,
   "metadata": {
    "collapsed": false
   },
   "outputs": [],
   "source": [
    "# Second, import annotation data from database(in R, we can use bioconductor as database).\n",
    "# import library to access database\n",
    "library(org.Sc.sgd.db)\n",
    "\n",
    "# import Data\n",
    "# DESCRIPTION data\n",
    "descriptions <- select(org.Sc.sgd.db, keys=getAllNodes(cw), columns=\"DESCRIPTION\")\n",
    "df.descriptions <- data.frame(descriptions)\n",
    "\n",
    "# GENENAME data\n",
    "gene.names <- select(org.Sc.sgd.db, keys=getAllNodes(cw), columns=\"GENENAME\")\n",
    "df.gene.names <- data.frame(gene.names)\n",
    "\n",
    "# GO data\n",
    "go <- select(org.Sc.sgd.db, keys=getAllNodes(cw), columns=\"GO\")\n",
    "df.go <- data.frame(go)\n",
    "\n",
    "# Finally, merge the above two data table and push it to Cytoscape.\n",
    "# set DESCRIPTION as attribute data\n",
    "nodeDataDefaults(g, attr = \"DESCRIPTION\") <- \"undefined\"\n",
    "attr(nodeDataDefaults(g, attr = \"DESCRIPTION\"), \"class\") <- \"STRING\"\n",
    "\n",
    "# set GENENAME as attribute data\n",
    "nodeDataDefaults(g, attr = \"name\") <- \"undefined\"\n",
    "attr(nodeDataDefaults(g, attr = \"name\"), \"class\") <- \"STRING\"\n",
    "\n",
    "# set GO as attribute data\n",
    "#nodeDataDefaults(g, attr = \"go\") <- \"undefined\"\n",
    "#attr(nodeDataDefaults(g, attr = \"go\"), \"class\") <- \"LIST\"\n",
    "\n",
    "# marge DESCRIPTION attribute.\n",
    "for (index in 1:length(df.descriptions$DESCRIPTION)){\n",
    "    nodeData(g, df.descriptions$ORF[[index]], \"DESCRIPTION\") <- df.descriptions$DESCRIPTION[[index]]\n",
    "}\n",
    "\n",
    "# marge GENENAME attribute.\n",
    "for (index in 1:length(df.gene.names$GENENAME)){\n",
    "    nodeData(g, df.gene.names$ORF[[index]], \"name\") <- df.gene.names$GENENAME[[index]]\n",
    "}\n",
    "\n",
    "# marge GO attribute.\n",
    "#for (index in 1:length(df.gene.names$GENENAME)){\n",
    "#    nodeData(g, df.gene.names$ORF[[index]], \"name\") <- df.gene.names$GENENAME[[index]]\n",
    "#}\n",
    "\n",
    "# show it in cytescape\n",
    "cw <- CytoscapeWindow('vignette', graph=g, overwrite=TRUE)\n",
    "displayGraph (cw)\n",
    "layoutNetwork (cw, layout.name='degree-circle')"
   ]
  },
  {
   "cell_type": "markdown",
   "metadata": {},
   "source": [
    "# Upload an edge attribute table"
   ]
  },
  {
   "cell_type": "code",
   "execution_count": null,
   "metadata": {
    "collapsed": false
   },
   "outputs": [],
   "source": [
    "# add attribute:\"edgeType\" and the type:\"STRING\"\n",
    "edgeDataDefaults(g, attr = \"edgeType\") <- \"undefined\"\n",
    "attr(edgeDataDefaults(g, attr = \"edgeType\"), \"class\") <- \"STRING\"\n",
    "\n",
    "# get EdgeList and type\n",
    "gal.table.fromvec <- gal.table[,1]\n",
    "gal.table.type <- gal.table[,2]\n",
    "gal.table.tovec <-  gal.table[,3]\n",
    "\n",
    "# add attribute value to the network\n",
    "for (index in 1:length(gal.table.fromvec)){\n",
    "    edgeData(g, gal.table.fromvec[[index]] ,gal.table.tovec[[index]], \"edgeType\") <- gal.table.type[[index]]\n",
    "}\n",
    "cw <- CytoscapeWindow('vignette', graph=g, overwrite=TRUE)\n",
    "displayGraph (cw)\n",
    "layoutNetwork (cw, layout.name='degree-circle')"
   ]
  },
  {
   "cell_type": "markdown",
   "metadata": {},
   "source": [
    "# Select edges based on some edge attributes\n",
    "---------------------------------------\n",
    "\n",
    "### How to select edges based on their attributes?\n",
    "\n",
    "First, we have to set attributes to edges. Then, we can select edges based on attributes.\n",
    "\n",
    "### Method : selectEdges\n",
    "\n",
    "#### Usage\n",
    "selectEdges(obj, edge.names, preserve.current.selection=TRUE)\n",
    "\n",
    "#### Arguments\n",
    "\n",
    "- **obj** : a CytoscapeWindowClass object.  \n",
    "- **edge.names** : a list of strings, the names of edges to select.  \n",
    "- **preserve.current.selection** : a logical object.  \n",
    "\n",
    "\n"
   ]
  },
  {
   "cell_type": "code",
   "execution_count": null,
   "metadata": {
    "collapsed": true
   },
   "outputs": [],
   "source": [
    "# clear selection\n",
    "clearSelection (cw)"
   ]
  },
  {
   "cell_type": "code",
   "execution_count": null,
   "metadata": {
    "collapsed": false
   },
   "outputs": [],
   "source": [
    "# selection Edges\n",
    "vec = c()\n",
    "for (index in 1:length(gal.table.type)){\n",
    "    if(gal.table.type[[index]] == 'pp'){\n",
    "        vec = c(vec, paste(gal.table.fromvec[[index]], '(pp)', gal.table.tovec[[index]]))\n",
    "    }\n",
    "}\n",
    "selectEdges (cw, vec)"
   ]
  },
  {
   "cell_type": "markdown",
   "metadata": {},
   "source": [
    "Then, you can get the output,like the follwoing image, in cytoscape.\n",
    "\n",
    "![cytoscape image](select_edge_image.jpeg)"
   ]
  },
  {
   "cell_type": "markdown",
   "metadata": {},
   "source": [
    "# Hide these edges\n",
    "---------------------------------------\n",
    "\n",
    "If you want to hide selected edges, you can use this method.\n",
    "\n",
    "### Method : hideSelectedEdges\n",
    "\n",
    "#### Usage\n",
    "\n",
    "hideSelectedEdges(obj)\n",
    "\n",
    "#### Arguments\n",
    "\n",
    "obj a CytoscapeWindowClass object."
   ]
  },
  {
   "cell_type": "code",
   "execution_count": null,
   "metadata": {
    "collapsed": false
   },
   "outputs": [],
   "source": [
    "# The code is only this!!\n",
    "# TODO : this methods have some error. I can't do anything with this method.\n",
    "hideSelectedEdges (cw)"
   ]
  },
  {
   "cell_type": "markdown",
   "metadata": {},
   "source": [
    "# Select nodes based on some node attributes\n",
    "---------------------------------------\n",
    "\n",
    "### method : selectNodes\n",
    "\n",
    "#### Usage\n",
    "selectNodes(obj, node.names, preserve.current.selection=TRUE)\n",
    "\n",
    "#### Arguments\n",
    "\n",
    "- **obj** : a CytoscapeWindowClass object.\n",
    "- **node.names** : a list of strings, the names of nodes to select.\n",
    "- **preserve.current.selection** : a logical object.\n"
   ]
  },
  {
   "cell_type": "code",
   "execution_count": null,
   "metadata": {
    "collapsed": false
   },
   "outputs": [],
   "source": [
    "# get attributes data\n",
    "gal.node.attrs <- read.table('sampleData/galFiltered_node.attrs',stringsAsFactors=FALSE, skip=1)\n",
    "head(gal.node.attrs)"
   ]
  },
  {
   "cell_type": "code",
   "execution_count": null,
   "metadata": {
    "collapsed": false
   },
   "outputs": [],
   "source": [
    "g <- initNodeAttribute (graph=g, attribute.name='moleculeType', attribute.type='char', default.value='undefined')\n",
    "\n",
    "# get EdgeAttrs\n",
    "gal.node = gal.node.attrs[[1]]\n",
    "gal.attrs = gal.node.attrs[[3]]\n",
    "\n",
    "for (index in 1:length(gal.node)){\n",
    "    nodeData (g, gal.node, 'moleculeType') <- as.character(gal.attrs[[index]])\n",
    "}\n",
    "\n",
    "cw <- setGraph (cw, g)\n",
    "displayGraph (cw)"
   ]
  },
  {
   "cell_type": "code",
   "execution_count": null,
   "metadata": {
    "collapsed": true
   },
   "outputs": [],
   "source": [
    "# clear selection\n",
    "clearSelection (cw)"
   ]
  },
  {
   "cell_type": "code",
   "execution_count": null,
   "metadata": {
    "collapsed": false
   },
   "outputs": [],
   "source": [
    "vac = c()\n",
    "for (index in 1:length(gal.node)){\n",
    "    if(gal.attrs[[index]] == '1'){\n",
    "        vec = c(vec, gal.node[[index]])\n",
    "    }\n",
    "}\n",
    "\n",
    "selectNodes(cw, vec)"
   ]
  },
  {
   "cell_type": "markdown",
   "metadata": {},
   "source": [
    "Then, you can get the output,like the follwoing image, in cytoscape.\n",
    "\n",
    "![cytoscape image](select_nodes_image.jpeg)"
   ]
  },
  {
   "cell_type": "markdown",
   "metadata": {},
   "source": [
    "# Hide these nodes\n",
    "---------------------------------------\n",
    "### Method : hideSelectedNodes\n",
    "\n",
    "#### Usage\n",
    "\n",
    "hideSelectedNodes(obj)\n",
    "\n",
    "#### Arguments\n",
    "\n",
    "obj : a CytoscapeWindowClass object.\n"
   ]
  },
  {
   "cell_type": "code",
   "execution_count": null,
   "metadata": {
    "collapsed": false
   },
   "outputs": [],
   "source": [
    "# TODO : There are some error in this method. I can't do anything by this.\n",
    "hideSelectedNodes(cw)"
   ]
  },
  {
   "cell_type": "markdown",
   "metadata": {},
   "source": [
    "# Apply a layout the the network that is not hidden\n",
    "---------------------------------------\n",
    "### Method : getLayoutNames, layoutNetwork\n",
    "\n",
    "We use two method in this section. 'getLayoutNames' let us know available layoutNames and we can apply one of them by 'layoutNetwork' method.\n",
    "\n",
    "#### 1. Usage\n",
    "getLayoutNames(obj)\n",
    "\n",
    "#### 1. Arguments\n",
    "obj : a CytoscapeConnectionClass object.\n",
    "\n",
    "#### 2. Usage\n",
    "layoutNetwork(obj, layout.name= grid )\n",
    "\n",
    "#### 2. Arguments\n",
    "obj a CytoscapeWindowClass object.\n",
    "layout.name a string, one of the values returned by getLayoutNames, ’grid’ by default.\n"
   ]
  },
  {
   "cell_type": "code",
   "execution_count": null,
   "metadata": {
    "collapsed": false
   },
   "outputs": [],
   "source": [
    "# get available layout names\n",
    "getLayoutNames(cw)"
   ]
  },
  {
   "cell_type": "code",
   "execution_count": null,
   "metadata": {
    "collapsed": false
   },
   "outputs": [],
   "source": [
    "# execute layout that you want\n",
    "layoutNetwork(cw, layout.name= 'isom')"
   ]
  },
  {
   "cell_type": "markdown",
   "metadata": {},
   "source": [
    "Then, you can get the output,like the follwoing image, in cytoscape.\n",
    "\n",
    "![cytoscape image](isom_graph_image.jpeg)"
   ]
  },
  {
   "cell_type": "code",
   "execution_count": null,
   "metadata": {
    "collapsed": true
   },
   "outputs": [],
   "source": [
    "# execute layout that you want\n",
    "layoutNetwork(cw, layout.name= 'kamada-kawai')"
   ]
  },
  {
   "cell_type": "markdown",
   "metadata": {},
   "source": [
    "Then, you can get the output,like the follwoing image, in cytoscape.\n",
    "\n",
    "![cytoscape image](kamada_kawai_image.jpeg)"
   ]
  },
  {
   "cell_type": "markdown",
   "metadata": {},
   "source": [
    "# Apply a visual style to this network\n",
    "---------------------------------------\n",
    "\n",
    "By default, Cytoscape displays nodes as pale red circles circles, edges as blue undecorated lines, selected nodes as yellow and selected edges as red. RCy3 provides an easy way to change these defaults. More interestingly, RCy3 provides easy programmatic access to the vizmapper, by means of which the size, shape and color of nodes and edges is determined by the data attributes you have attached to those nodes and edges.\n",
    "\n",
    "## The methods\n",
    "---------------------------------------\n",
    "\n",
    "There are so many methods to do this.\n",
    "\n",
    "#TODO : I have to remove following message when I push. I think this section will be similar to cookbook, so I will copy and modify with it.\n",
    "\n",
    "At this point I do every bit of the visual style manually, but it is always the same.\n",
    "\n",
    "That is because I do not know how to transfer a visual style from one session to the next yet.\n",
    "\n",
    "It would be great if that was automated (I do it manually for one network and then it is automatic for the following ones that have the same exact attributes)'"
   ]
  }
 ],
 "metadata": {
  "kernelspec": {
   "display_name": "R",
   "language": "R",
   "name": "ir"
  },
  "language_info": {
   "codemirror_mode": "r",
   "file_extension": ".r",
   "mimetype": "text/x-r-source",
   "name": "R",
   "pygments_lexer": "r",
   "version": "3.3.1"
  }
 },
 "nbformat": 4,
 "nbformat_minor": 0
}
