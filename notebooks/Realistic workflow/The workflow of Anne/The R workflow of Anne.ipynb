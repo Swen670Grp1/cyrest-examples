{
 "cells": [
  {
   "cell_type": "markdown",
   "metadata": {},
   "source": [
    "# The R workflow of Anne\n",
    "---------------------------------------\n",
    "\n",
    "In this jupyter-notebook, I'll show you the R workflow of Anne as the sample.\n",
    "\n",
    "You can understand the basic workflow by reading this, but the RCy3's documentation is really useful and you can know much more about this.\n",
    "\n",
    "The documentation : https://www.bioconductor.org/packages/release/bioc/html/RCy3.html"
   ]
  },
  {
   "cell_type": "markdown",
   "metadata": {},
   "source": [
    "# Setup\n",
    "---------------------------------------\n",
    "To execute this, please sutisfy following items.\n",
    "\n",
    "- Java SE 8\n",
    "- Cytoscape version 3.3+\n",
    "- CyREST\n",
    "- Use docker file to do this. The docker file provide you the environment below.\n",
    "    - RCy3\n",
    "    - igraph\n",
    "    - ..."
   ]
  },
  {
   "cell_type": "markdown",
   "metadata": {},
   "source": [
    "# Start a new session\n",
    "---------------------------------------\n",
    "To start a new session, you should do the following step.\n",
    "\n",
    "### Steps\n",
    "1. Please execute cytoscape\n",
    "1. Import libraries\n",
    "1. Load Data\n",
    "1. Shaping data\n",
    "1. ..."
   ]
  },
  {
   "cell_type": "code",
   "execution_count": 7,
   "metadata": {
    "collapsed": false
   },
   "outputs": [],
   "source": [
    "library(RCy3)\n",
    "library(igraph)"
   ]
  },
  {
   "cell_type": "code",
   "execution_count": 8,
   "metadata": {
    "collapsed": false,
    "scrolled": false
   },
   "outputs": [
    {
     "data": {
      "text/html": [
       "<table>\n",
       "<thead><tr><th scope=col>V1</th><th scope=col>V2</th><th scope=col>V3</th></tr></thead>\n",
       "<tbody>\n",
       "\t<tr><td>YKR026C</td><td>pp     </td><td>YGL122C</td></tr>\n",
       "\t<tr><td>YGR218W</td><td>pp     </td><td>YGL097W</td></tr>\n",
       "\t<tr><td>YGL097W</td><td>pp     </td><td>YOR204W</td></tr>\n",
       "\t<tr><td>YLR249W</td><td>pp     </td><td>YPR080W</td></tr>\n",
       "\t<tr><td>YLR249W</td><td>pp     </td><td>YBR118W</td></tr>\n",
       "\t<tr><td>YLR293C</td><td>pp     </td><td>YGL097W</td></tr>\n",
       "</tbody>\n",
       "</table>\n"
      ],
      "text/latex": [
       "\\begin{tabular}{r|lll}\n",
       " V1 & V2 & V3\\\\\n",
       "\\hline\n",
       "\t YKR026C & pp      & YGL122C\\\\\n",
       "\t YGR218W & pp      & YGL097W\\\\\n",
       "\t YGL097W & pp      & YOR204W\\\\\n",
       "\t YLR249W & pp      & YPR080W\\\\\n",
       "\t YLR249W & pp      & YBR118W\\\\\n",
       "\t YLR293C & pp      & YGL097W\\\\\n",
       "\\end{tabular}\n"
      ],
      "text/plain": [
       "  V1      V2 V3     \n",
       "1 YKR026C pp YGL122C\n",
       "2 YGR218W pp YGL097W\n",
       "3 YGL097W pp YOR204W\n",
       "4 YLR249W pp YPR080W\n",
       "5 YLR249W pp YBR118W\n",
       "6 YLR293C pp YGL097W"
      ]
     },
     "metadata": {},
     "output_type": "display_data"
    }
   ],
   "source": [
    "# Load Data\n",
    "gal.table <- read.table('sampleData/galFiltered.sif',stringsAsFactors=FALSE)\n",
    "head(gal.table)"
   ]
  },
  {
   "cell_type": "code",
   "execution_count": 9,
   "metadata": {
    "collapsed": false
   },
   "outputs": [
    {
     "name": "stderr",
     "output_type": "stream",
     "text": [
      "Warning message:\n",
      "In .local(from, to, graph): edges replaced: ‘YPL248C|YML051W’"
     ]
    },
    {
     "name": "stdout",
     "output_type": "stream",
     "text": [
      "[1] \"label\"\n"
     ]
    }
   ],
   "source": [
    "# create graph class\n",
    "g <- new ('graphNEL', edgemode='directed')\n",
    "\n",
    "# Get NodesVec\n",
    "gal.table.nodevec <- unique(c(gal.table[[1]], gal.table[[3]]))\n",
    "\n",
    "# add nodes to graph\n",
    "for(node in gal.table.nodevec){\n",
    "    g <- graph::addNode(node, g)\n",
    "}\n",
    "\n",
    "# get EdgeList\n",
    "gal.table.fromvec = gal.table[[1]]\n",
    "gal.table.tovec = gal.table[[3]]\n",
    "\n",
    "for (index in 1:length(gal.table.fromvec)){\n",
    "    g <- graph::addEdge (gal.table.fromvec[[index]] ,gal.table.tovec[[index]], g)\n",
    "}\n",
    "\n",
    "# show it in cytescape\n",
    "cw <- CytoscapeWindow('vignette', , graph=g, overwrite=TRUE)\n",
    "displayGraph (cw)\n",
    "layoutNetwork (cw, layout.name='degree-circle')\n"
   ]
  },
  {
   "cell_type": "markdown",
   "metadata": {},
   "source": [
    "Then, you can get this image in cytoscape.\n",
    "\n",
    "![cytoscape image](graph_image.jpeg)"
   ]
  },
  {
   "cell_type": "markdown",
   "metadata": {},
   "source": [
    "# Upload  a node attribute table.\n",
    "\n",
    "---------------------------------------\n",
    "\n",
    "## Import Annotation Data from bioconductor and merge it into Network data\n",
    "---------------------------------------\n",
    "\n",
    "In this example of workflow, by executing the following steps, you can load annotation data and merge it.\n",
    "\n",
    "1. First, import network data from local file/URL to Cytoscape.\n",
    "1. Second, import annotation data from database(in R, we can use bioconductor as database).\n",
    "  - Human database in bioconductor:\n",
    "  - https://www.bioconductor.org/packages/release/data/annotation/html/org.Hs.eg.db.html\n",
    "  - Yeast database in bioconductor :\n",
    "  - https://www.bioconductor.org/packages/release/data/annotation/html/org.Sc.sgd.db.html\n",
    "1. Finally, merge the above two data table and push it to Cytoscape.\n",
    "\n",
    "Now, we use the data file 'galFiltered.sif' that is the yeast data. So, we will try to add annotation data to this.\n"
   ]
  },
  {
   "cell_type": "code",
   "execution_count": 10,
   "metadata": {
    "collapsed": false
   },
   "outputs": [
    {
     "name": "stderr",
     "output_type": "stream",
     "text": [
      "'select()' returned 1:1 mapping between keys and columns\n",
      "'select()' returned 1:1 mapping between keys and columns\n",
      "'select()' returned 1:many mapping between keys and columns\n"
     ]
    },
    {
     "name": "stdout",
     "output_type": "stream",
     "text": [
      "[1] \"DESCRIPTION\"\n",
      "[1] \"name\"\n",
      "[1] \"label\"\n"
     ]
    }
   ],
   "source": [
    "# Second, import annotation data from database(in R, we can use bioconductor as database).\n",
    "# import library to access database\n",
    "library(org.Sc.sgd.db)\n",
    "\n",
    "# import Data\n",
    "# DESCRIPTION data\n",
    "descriptions <- select(org.Sc.sgd.db, keys=getAllNodes(cw), columns=\"DESCRIPTION\")\n",
    "df.descriptions <- data.frame(descriptions)\n",
    "\n",
    "# GENENAME data\n",
    "gene.names <- select(org.Sc.sgd.db, keys=getAllNodes(cw), columns=\"GENENAME\")\n",
    "df.gene.names <- data.frame(gene.names)\n",
    "\n",
    "# GO data\n",
    "go <- select(org.Sc.sgd.db, keys=getAllNodes(cw), columns=\"GO\")\n",
    "df.go <- data.frame(go)\n",
    "\n",
    "# Finally, merge the above two data table and push it to Cytoscape.\n",
    "# set DESCRIPTION as attribute data\n",
    "nodeDataDefaults(g, attr = \"DESCRIPTION\") <- \"undefined\"\n",
    "attr(nodeDataDefaults(g, attr = \"DESCRIPTION\"), \"class\") <- \"STRING\"\n",
    "\n",
    "# set GENENAME as attribute data\n",
    "nodeDataDefaults(g, attr = \"name\") <- \"undefined\"\n",
    "attr(nodeDataDefaults(g, attr = \"name\"), \"class\") <- \"STRING\"\n",
    "\n",
    "# set GO as attribute data\n",
    "#nodeDataDefaults(g, attr = \"go\") <- \"undefined\"\n",
    "#attr(nodeDataDefaults(g, attr = \"go\"), \"class\") <- \"LIST\"\n",
    "\n",
    "# marge DESCRIPTION attribute.\n",
    "for (index in 1:length(df.descriptions$DESCRIPTION)){\n",
    "    nodeData(g, df.descriptions$ORF[[index]], \"DESCRIPTION\") <- df.descriptions$DESCRIPTION[[index]]\n",
    "}\n",
    "\n",
    "# marge GENENAME attribute.\n",
    "for (index in 1:length(df.gene.names$GENENAME)){\n",
    "    nodeData(g, df.gene.names$ORF[[index]], \"name\") <- df.gene.names$GENENAME[[index]]\n",
    "}\n",
    "\n",
    "# marge GO attribute.\n",
    "#for (index in 1:length(df.gene.names$GENENAME)){\n",
    "#    nodeData(g, df.gene.names$ORF[[index]], \"name\") <- df.gene.names$GENENAME[[index]]\n",
    "#}\n",
    "\n",
    "# show it in cytescape\n",
    "cw <- CytoscapeWindow('vignette', graph=g, overwrite=TRUE)\n",
    "displayGraph (cw)\n",
    "layoutNetwork (cw, layout.name='degree-circle')"
   ]
  },
  {
   "cell_type": "markdown",
   "metadata": {},
   "source": [
    "# Upload an edge attribute table"
   ]
  },
  {
   "cell_type": "code",
   "execution_count": 13,
   "metadata": {
    "collapsed": false
   },
   "outputs": [
    {
     "name": "stdout",
     "output_type": "stream",
     "text": [
      "[1] \"DESCRIPTION\"\n",
      "[1] \"name\"\n",
      "[1] \"label\"\n",
      "[1] \"edgeType\"\n"
     ]
    }
   ],
   "source": [
    "# add attribute:\"edgeType\" and the type:\"STRING\"\n",
    "edgeDataDefaults(g, attr = \"edgeType\") <- \"undefined\"\n",
    "attr(edgeDataDefaults(g, attr = \"edgeType\"), \"class\") <- \"STRING\"\n",
    "\n",
    "# get EdgeList and type\n",
    "gal.table.fromvec <- gal.table[,1]\n",
    "gal.table.type <- gal.table[,2]\n",
    "gal.table.tovec <-  gal.table[,3]\n",
    "\n",
    "# add attribute value to the network\n",
    "for (index in 1:length(gal.table.fromvec)){\n",
    "    edgeData(g, gal.table.fromvec[[index]] ,gal.table.tovec[[index]], \"edgeType\") <- gal.table.type[[index]]\n",
    "}\n",
    "cw <- CytoscapeWindow('vignette', graph=g, overwrite=TRUE)\n",
    "displayGraph (cw)\n",
    "layoutNetwork (cw, layout.name='degree-circle')"
   ]
  },
  {
   "cell_type": "markdown",
   "metadata": {},
   "source": [
    "# Select edges based on some edge attributes\n",
    "---------------------------------------\n",
    "\n",
    "### How to select edges based on their attributes?\n",
    "\n",
    "First, we have to set attributes to edges. Then, we can select edges based on attributes.\n",
    "\n",
    "### Method : selectEdges\n",
    "\n",
    "#### Usage\n",
    "selectEdges(obj, edge.names, preserve.current.selection=TRUE)\n",
    "\n",
    "#### Arguments\n",
    "\n",
    "- **obj** : a CytoscapeWindowClass object.  \n",
    "- **edge.names** : a list of strings, the names of edges to select.  \n",
    "- **preserve.current.selection** : a logical object.  \n",
    "\n",
    "\n"
   ]
  },
  {
   "cell_type": "code",
   "execution_count": 14,
   "metadata": {
    "collapsed": true
   },
   "outputs": [],
   "source": [
    "# clear selection\n",
    "clearSelection (cw)"
   ]
  },
  {
   "cell_type": "code",
   "execution_count": 16,
   "metadata": {
    "collapsed": false
   },
   "outputs": [],
   "source": [
    "# selection Edges\n",
    "vec = c()\n",
    "for (index in 1:length(gal.table.type)){\n",
    "    if(gal.table.type[[index]] == 'pp'){\n",
    "        vec = c(vec, paste(gal.table.fromvec[[index]], '(pp)', gal.table.tovec[[index]]))\n",
    "    }\n",
    "}\n",
    "selectEdges (cw, vec)"
   ]
  },
  {
   "cell_type": "markdown",
   "metadata": {},
   "source": [
    "Then, you can get the output,like the follwoing image, in cytoscape.\n",
    "\n",
    "![cytoscape image](select_edge_image.jpeg)"
   ]
  },
  {
   "cell_type": "markdown",
   "metadata": {},
   "source": [
    "# Hide these edges\n",
    "---------------------------------------\n",
    "\n",
    "If you want to hide selected edges, you can use this method.\n",
    "\n",
    "### Method : hideSelectedEdges\n",
    "\n",
    "#### Usage\n",
    "\n",
    "hideSelectedEdges(obj)\n",
    "\n",
    "#### Arguments\n",
    "\n",
    "obj a CytoscapeWindowClass object."
   ]
  },
  {
   "cell_type": "code",
   "execution_count": 9,
   "metadata": {
    "collapsed": false
   },
   "outputs": [
    {
     "data": {
      "text/plain": [
       "NULL"
      ]
     },
     "metadata": {},
     "output_type": "display_data"
    }
   ],
   "source": [
    "# The code is only this!!\n",
    "# TODO : this methods have some error. I can't do anything with this method.\n",
    "hideSelectedEdges (cw)"
   ]
  },
  {
   "cell_type": "markdown",
   "metadata": {},
   "source": [
    "# Select nodes based on some node attributes\n",
    "---------------------------------------\n",
    "\n",
    "### method : selectNodes\n",
    "\n",
    "#### Usage\n",
    "selectNodes(obj, node.names, preserve.current.selection=TRUE)\n",
    "\n",
    "#### Arguments\n",
    "\n",
    "- **obj** : a CytoscapeWindowClass object.\n",
    "- **node.names** : a list of strings, the names of nodes to select.\n",
    "- **preserve.current.selection** : a logical object.\n"
   ]
  },
  {
   "cell_type": "code",
   "execution_count": 18,
   "metadata": {
    "collapsed": false
   },
   "outputs": [
    {
     "data": {
      "text/html": [
       "<table>\n",
       "<thead><tr><th scope=col>V1</th><th scope=col>V2</th><th scope=col>V3</th></tr></thead>\n",
       "<tbody>\n",
       "\t<tr><td>YKR026C</td><td>=      </td><td>1      </td></tr>\n",
       "\t<tr><td>YGL122C</td><td>=      </td><td>1      </td></tr>\n",
       "\t<tr><td>YMR146C</td><td>=      </td><td>1      </td></tr>\n",
       "\t<tr><td>YDR429C</td><td>=      </td><td>1      </td></tr>\n",
       "\t<tr><td>YFL017C</td><td>=      </td><td>1      </td></tr>\n",
       "\t<tr><td>YOL123W</td><td>=      </td><td>1      </td></tr>\n",
       "</tbody>\n",
       "</table>\n"
      ],
      "text/latex": [
       "\\begin{tabular}{r|lll}\n",
       " V1 & V2 & V3\\\\\n",
       "\\hline\n",
       "\t YKR026C & =       & 1      \\\\\n",
       "\t YGL122C & =       & 1      \\\\\n",
       "\t YMR146C & =       & 1      \\\\\n",
       "\t YDR429C & =       & 1      \\\\\n",
       "\t YFL017C & =       & 1      \\\\\n",
       "\t YOL123W & =       & 1      \\\\\n",
       "\\end{tabular}\n"
      ],
      "text/plain": [
       "  V1      V2 V3\n",
       "1 YKR026C =  1 \n",
       "2 YGL122C =  1 \n",
       "3 YMR146C =  1 \n",
       "4 YDR429C =  1 \n",
       "5 YFL017C =  1 \n",
       "6 YOL123W =  1 "
      ]
     },
     "metadata": {},
     "output_type": "display_data"
    }
   ],
   "source": [
    "# get attributes data\n",
    "gal.node.attrs <- read.table('sampleData/galFiltered_node.attrs',stringsAsFactors=FALSE, skip=1)\n",
    "head(gal.node.attrs)"
   ]
  },
  {
   "cell_type": "code",
   "execution_count": 19,
   "metadata": {
    "collapsed": false
   },
   "outputs": [
    {
     "name": "stdout",
     "output_type": "stream",
     "text": [
      "[1] \"DESCRIPTION\"\n",
      "[1] \"name\"\n",
      "[1] \"label\"\n",
      "[1] \"moleculeType\"\n",
      "[1] \"edgeType\"\n"
     ]
    }
   ],
   "source": [
    "g <- initNodeAttribute (graph=g, attribute.name='moleculeType', attribute.type='char', default.value='undefined')\n",
    "\n",
    "# get EdgeAttrs\n",
    "gal.node = gal.node.attrs[[1]]\n",
    "gal.attrs = gal.node.attrs[[3]]\n",
    "\n",
    "for (index in 1:length(gal.node)){\n",
    "    nodeData (g, gal.node, 'moleculeType') <- as.character(gal.attrs[[index]])\n",
    "}\n",
    "\n",
    "cw <- setGraph (cw, g)\n",
    "displayGraph (cw)"
   ]
  },
  {
   "cell_type": "code",
   "execution_count": 20,
   "metadata": {
    "collapsed": true
   },
   "outputs": [],
   "source": [
    "# clear selection\n",
    "clearSelection (cw)"
   ]
  },
  {
   "cell_type": "code",
   "execution_count": 21,
   "metadata": {
    "collapsed": false
   },
   "outputs": [],
   "source": [
    "vac = c()\n",
    "for (index in 1:length(gal.node)){\n",
    "    if(gal.attrs[[index]] == '1'){\n",
    "        vec = c(vec, gal.node[[index]])\n",
    "    }\n",
    "}\n",
    "\n",
    "selectNodes(cw, vec)"
   ]
  },
  {
   "cell_type": "markdown",
   "metadata": {},
   "source": [
    "Then, you can get the output,like the follwoing image, in cytoscape.\n",
    "\n",
    "![cytoscape image](select_nodes_image.jpeg)"
   ]
  },
  {
   "cell_type": "markdown",
   "metadata": {},
   "source": [
    "# Hide these nodes\n",
    "---------------------------------------\n",
    "### Method : hideSelectedNodes\n",
    "\n",
    "#### Usage\n",
    "\n",
    "hideSelectedNodes(obj)\n",
    "\n",
    "#### Arguments\n",
    "\n",
    "obj : a CytoscapeWindowClass object.\n"
   ]
  },
  {
   "cell_type": "code",
   "execution_count": 22,
   "metadata": {
    "collapsed": false
   },
   "outputs": [
    {
     "name": "stderr",
     "output_type": "stream",
     "text": [
      "not yet implemented\n"
     ]
    }
   ],
   "source": [
    "# TODO : There are some error in this method. I can't do anything by this.\n",
    "hideSelectedNodes(cw)"
   ]
  },
  {
   "cell_type": "markdown",
   "metadata": {},
   "source": [
    "# Apply a layout the the network that is not hidden\n",
    "---------------------------------------\n",
    "### Method : getLayoutNames, layoutNetwork\n",
    "\n",
    "We use two method in this section. 'getLayoutNames' let us know available layoutNames and we can apply one of them by 'layoutNetwork' method.\n",
    "\n",
    "#### 1. Usage\n",
    "getLayoutNames(obj)\n",
    "\n",
    "#### 1. Arguments\n",
    "obj : a CytoscapeConnectionClass object.\n",
    "\n",
    "#### 2. Usage\n",
    "layoutNetwork(obj, layout.name= grid )\n",
    "\n",
    "#### 2. Arguments\n",
    "obj a CytoscapeWindowClass object.\n",
    "layout.name a string, one of the values returned by getLayoutNames, ’grid’ by default.\n"
   ]
  },
  {
   "cell_type": "code",
   "execution_count": 23,
   "metadata": {
    "collapsed": false
   },
   "outputs": [
    {
     "data": {
      "text/html": [
       "<ol class=list-inline>\n",
       "\t<li>'attribute-circle'</li>\n",
       "\t<li>'stacked-node-layout'</li>\n",
       "\t<li>'degree-circle'</li>\n",
       "\t<li>'circular'</li>\n",
       "\t<li>'attributes-layout'</li>\n",
       "\t<li>'kamada-kawai'</li>\n",
       "\t<li>'force-directed'</li>\n",
       "\t<li>'grid'</li>\n",
       "\t<li>'hierarchical'</li>\n",
       "\t<li>'fruchterman-rheingold'</li>\n",
       "\t<li>'isom'</li>\n",
       "\t<li>'force-directed-cl'</li>\n",
       "</ol>\n"
      ],
      "text/latex": [
       "\\begin{enumerate*}\n",
       "\\item 'attribute-circle'\n",
       "\\item 'stacked-node-layout'\n",
       "\\item 'degree-circle'\n",
       "\\item 'circular'\n",
       "\\item 'attributes-layout'\n",
       "\\item 'kamada-kawai'\n",
       "\\item 'force-directed'\n",
       "\\item 'grid'\n",
       "\\item 'hierarchical'\n",
       "\\item 'fruchterman-rheingold'\n",
       "\\item 'isom'\n",
       "\\item 'force-directed-cl'\n",
       "\\end{enumerate*}\n"
      ],
      "text/markdown": [
       "1. 'attribute-circle'\n",
       "2. 'stacked-node-layout'\n",
       "3. 'degree-circle'\n",
       "4. 'circular'\n",
       "5. 'attributes-layout'\n",
       "6. 'kamada-kawai'\n",
       "7. 'force-directed'\n",
       "8. 'grid'\n",
       "9. 'hierarchical'\n",
       "10. 'fruchterman-rheingold'\n",
       "11. 'isom'\n",
       "12. 'force-directed-cl'\n",
       "\n",
       "\n"
      ],
      "text/plain": [
       " [1] \"attribute-circle\"      \"stacked-node-layout\"   \"degree-circle\"        \n",
       " [4] \"circular\"              \"attributes-layout\"     \"kamada-kawai\"         \n",
       " [7] \"force-directed\"        \"grid\"                  \"hierarchical\"         \n",
       "[10] \"fruchterman-rheingold\" \"isom\"                  \"force-directed-cl\"    "
      ]
     },
     "metadata": {},
     "output_type": "display_data"
    }
   ],
   "source": [
    "# get available layout names\n",
    "getLayoutNames(cw)"
   ]
  },
  {
   "cell_type": "code",
   "execution_count": 24,
   "metadata": {
    "collapsed": false
   },
   "outputs": [],
   "source": [
    "# execute layout that you want\n",
    "layoutNetwork(cw, layout.name= 'isom')"
   ]
  },
  {
   "cell_type": "markdown",
   "metadata": {},
   "source": [
    "Then, you can get the output,like the follwoing image, in cytoscape.\n",
    "\n",
    "![cytoscape image](isom_graph_image.jpeg)"
   ]
  },
  {
   "cell_type": "code",
   "execution_count": 25,
   "metadata": {
    "collapsed": true
   },
   "outputs": [],
   "source": [
    "# execute layout that you want\n",
    "layoutNetwork(cw, layout.name= 'kamada-kawai')"
   ]
  },
  {
   "cell_type": "markdown",
   "metadata": {},
   "source": [
    "Then, you can get the output,like the follwoing image, in cytoscape.\n",
    "\n",
    "![cytoscape image](kamada_kawai_image.jpeg)"
   ]
  },
  {
   "cell_type": "markdown",
   "metadata": {},
   "source": [
    "# Apply a visual style to this network\n",
    "---------------------------------------\n",
    "\n",
    "By default, Cytoscape displays nodes as pale red circles circles, edges as blue undecorated lines, selected nodes as yellow and selected edges as red. RCy3 provides an easy way to change these defaults. More interestingly, RCy3 provides easy programmatic access to the vizmapper, by means of which the size, shape and color of nodes and edges is determined by the data attributes you have attached to those nodes and edges.\n",
    "\n",
    "## The methods\n",
    "---------------------------------------\n",
    "\n",
    "There are so many methods to do this.\n",
    "\n",
    "#TODO : I have to remove following message when I push. I think this section will be similar to cookbook, so I will copy and modify with it.\n",
    "\n",
    "At this point I do every bit of the visual style manually, but it is always the same.\n",
    "\n",
    "That is because I do not know how to transfer a visual style from one session to the next yet.\n",
    "\n",
    "It would be great if that was automated (I do it manually for one network and then it is automatic for the following ones that have the same exact attributes)'"
   ]
  }
 ],
 "metadata": {
  "kernelspec": {
   "display_name": "R",
   "language": "R",
   "name": "ir"
  },
  "language_info": {
   "codemirror_mode": "r",
   "file_extension": ".r",
   "mimetype": "text/x-r-source",
   "name": "R",
   "pygments_lexer": "r",
   "version": "3.2.3"
  }
 },
 "nbformat": 4,
 "nbformat_minor": 0
}
