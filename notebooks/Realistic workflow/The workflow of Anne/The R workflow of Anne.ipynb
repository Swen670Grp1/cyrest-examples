{
 "cells": [
  {
   "cell_type": "markdown",
   "metadata": {},
   "source": [
    "# The R workflow of Anne\n",
    "---------------------------------------\n",
    "\n",
    "In this jupyter-notebook, I'll show you the R workflow of Anne as the sample.\n",
    "\n",
    "Hi Kei,\n",
    "I don t know if that is the kind of workflow you were looking for, but here\n",
    "is something I have been doing repeatedly lately:\n",
    "\n",
    "- start a new session\n",
    "- upload a network table, an edge attribute table and a node attribute table\n",
    "(all in xls)\n",
    "- select edges based on some edge attributes\n",
    "- hide these edges\n",
    "- select nodes based on some node attributes\n",
    "- hide these nodes\n",
    "- apply a layout the the network that is not hidden\n",
    "- apply a visual style to this network; at this point I do every bit of the\n",
    "visual style manually, but it is always the same. That is because I do not\n",
    "know how to transfer a visual style from one session to the next yet. it\n",
    "would be great if that was automated (I do it manually for one network and\n",
    "then it is automatic for the following ones that have the same exact\n",
    "attributes)\n",
    "\n",
    "Best\n",
    "Anne"
   ]
  },
  {
   "cell_type": "markdown",
   "metadata": {},
   "source": [
    "# Setup\n",
    "---------------------------------------\n",
    "To execute this, please sutisfy following items.\n",
    "\n",
    "- Java SE 8\n",
    "- Cytoscape version 3.3+\n",
    "- CyREST\n",
    "- Use docker file to do this. The docker file provide you the environment below.\n",
    "    - RCy3\n",
    "    - igraph\n",
    "    - ..."
   ]
  },
  {
   "cell_type": "markdown",
   "metadata": {},
   "source": [
    "# Start a new session\n",
    "---------------------------------------\n",
    "To start a new session, you should do the following step.\n",
    "\n",
    "### Steps\n",
    "- Please execute cytoscape\n",
    "- Import libraries\n",
    "- Load Data\n",
    "- Shaping data\n",
    "- ..."
   ]
  },
  {
   "cell_type": "code",
   "execution_count": 2,
   "metadata": {
    "collapsed": false
   },
   "outputs": [],
   "source": [
    "library(RCy3)\n",
    "library(igraph)"
   ]
  },
  {
   "cell_type": "code",
   "execution_count": 3,
   "metadata": {
    "collapsed": false,
    "scrolled": false
   },
   "outputs": [
    {
     "data": {
      "text/html": [
       "<table>\n",
       "<thead><tr><th scope=col>V1</th><th scope=col>V2</th><th scope=col>V3</th></tr></thead>\n",
       "<tbody>\n",
       "\t<tr><td>YKR026C</td><td>pp     </td><td>YGL122C</td></tr>\n",
       "\t<tr><td>YGR218W</td><td>pp     </td><td>YGL097W</td></tr>\n",
       "\t<tr><td>YGL097W</td><td>pp     </td><td>YOR204W</td></tr>\n",
       "\t<tr><td>YLR249W</td><td>pp     </td><td>YPR080W</td></tr>\n",
       "\t<tr><td>YLR249W</td><td>pp     </td><td>YBR118W</td></tr>\n",
       "\t<tr><td>YLR293C</td><td>pp     </td><td>YGL097W</td></tr>\n",
       "</tbody>\n",
       "</table>\n"
      ],
      "text/latex": [
       "\\begin{tabular}{r|lll}\n",
       " V1 & V2 & V3\\\\\n",
       "\\hline\n",
       "\t YKR026C & pp      & YGL122C\\\\\n",
       "\t YGR218W & pp      & YGL097W\\\\\n",
       "\t YGL097W & pp      & YOR204W\\\\\n",
       "\t YLR249W & pp      & YPR080W\\\\\n",
       "\t YLR249W & pp      & YBR118W\\\\\n",
       "\t YLR293C & pp      & YGL097W\\\\\n",
       "\\end{tabular}\n"
      ],
      "text/plain": [
       "  V1      V2 V3     \n",
       "1 YKR026C pp YGL122C\n",
       "2 YGR218W pp YGL097W\n",
       "3 YGL097W pp YOR204W\n",
       "4 YLR249W pp YPR080W\n",
       "5 YLR249W pp YBR118W\n",
       "6 YLR293C pp YGL097W"
      ]
     },
     "metadata": {},
     "output_type": "display_data"
    }
   ],
   "source": [
    "# Load Data\n",
    "gal.table <- read.table('sampleData/galFiltered.sif',stringsAsFactors=FALSE)\n",
    "head(gal.table)"
   ]
  },
  {
   "cell_type": "code",
   "execution_count": 4,
   "metadata": {
    "collapsed": false
   },
   "outputs": [
    {
     "name": "stderr",
     "output_type": "stream",
     "text": [
      "Warning message:\n",
      "In .local(from, to, graph): edges replaced: ‘YPL248C|YML051W’"
     ]
    },
    {
     "name": "stdout",
     "output_type": "stream",
     "text": [
      "[1] \"label\"\n"
     ]
    }
   ],
   "source": [
    "# create graph class\n",
    "g <- new ('graphNEL', edgemode='directed')\n",
    "\n",
    "# Get NodesVec\n",
    "gal.table.nodevec <- unique(c(gal.table[[1]], gal.table[[3]]))\n",
    "\n",
    "# add nodes to graph\n",
    "for(node in gal.table.nodevec){\n",
    "    g <- graph::addNode(node, g)\n",
    "}\n",
    "\n",
    "# get EdgeList\n",
    "gal.table.fromvec = gal.table[[1]]\n",
    "gal.table.tovec = gal.table[[3]]\n",
    "\n",
    "for (index in 1:length(gal.table.fromvec)){\n",
    "    g <- graph::addEdge (gal.table.fromvec[[index]] ,gal.table.tovec[[index]], g)\n",
    "}\n",
    "\n",
    "# show it in cytescape\n",
    "cw <- CytoscapeWindow('vignette', , graph=g, overwrite=TRUE)\n",
    "displayGraph (cw)\n",
    "layoutNetwork (cw, layout.name='degree-circle')\n"
   ]
  },
  {
   "cell_type": "markdown",
   "metadata": {},
   "source": [
    "Then, you can get this image in cytoscape.\n",
    "\n",
    "![cytoscape image](graph_image.jpeg)"
   ]
  },
  {
   "cell_type": "markdown",
   "metadata": {},
   "source": [
    "# Select edges based on some edge attributes\n",
    "---------------------------------------\n",
    "\n",
    "### How to select edges based on their attributes?\n",
    "\n",
    "First, we have to set attributes to edges. Then, we can select edges based on attributes.\n",
    "\n",
    "### Method : selectEdges\n",
    "\n",
    "#### Usage\n",
    "selectEdges(obj, edge.names, preserve.current.selection=TRUE)\n",
    "\n",
    "#### Arguments\n",
    "\n",
    "- **obj** : a CytoscapeWindowClass object.  \n",
    "- **edge.names** : a list of strings, the names of edges to select.  \n",
    "- **preserve.current.selection** : a logical object.  \n",
    "\n",
    "\n"
   ]
  },
  {
   "cell_type": "code",
   "execution_count": 5,
   "metadata": {
    "collapsed": false
   },
   "outputs": [
    {
     "data": {
      "text/html": [
       "<table>\n",
       "<thead><tr><th scope=col>V1</th><th scope=col>V2</th><th scope=col>V3</th><th scope=col>V4</th><th scope=col>V5</th></tr></thead>\n",
       "<tbody>\n",
       "\t<tr><td>YKR026C</td><td>(pp)   </td><td>YGL122C</td><td>=      </td><td>1      </td></tr>\n",
       "\t<tr><td>YGR218W</td><td>(pp)   </td><td>YGL097W</td><td>=      </td><td>1      </td></tr>\n",
       "\t<tr><td>YGL097W</td><td>(pp)   </td><td>YOR204W</td><td>=      </td><td>1      </td></tr>\n",
       "\t<tr><td>YLR249W</td><td>(pp)   </td><td>YPR080W</td><td>=      </td><td>1      </td></tr>\n",
       "\t<tr><td>YLR249W</td><td>(pp)   </td><td>YBR118W</td><td>=      </td><td>1      </td></tr>\n",
       "\t<tr><td>YLR293C</td><td>(pp)   </td><td>YGL097W</td><td>=      </td><td>1      </td></tr>\n",
       "</tbody>\n",
       "</table>\n"
      ],
      "text/latex": [
       "\\begin{tabular}{r|lllll}\n",
       " V1 & V2 & V3 & V4 & V5\\\\\n",
       "\\hline\n",
       "\t YKR026C & (pp)    & YGL122C & =       & 1      \\\\\n",
       "\t YGR218W & (pp)    & YGL097W & =       & 1      \\\\\n",
       "\t YGL097W & (pp)    & YOR204W & =       & 1      \\\\\n",
       "\t YLR249W & (pp)    & YPR080W & =       & 1      \\\\\n",
       "\t YLR249W & (pp)    & YBR118W & =       & 1      \\\\\n",
       "\t YLR293C & (pp)    & YGL097W & =       & 1      \\\\\n",
       "\\end{tabular}\n"
      ],
      "text/plain": [
       "  V1      V2   V3      V4 V5\n",
       "1 YKR026C (pp) YGL122C =  1 \n",
       "2 YGR218W (pp) YGL097W =  1 \n",
       "3 YGL097W (pp) YOR204W =  1 \n",
       "4 YLR249W (pp) YPR080W =  1 \n",
       "5 YLR249W (pp) YBR118W =  1 \n",
       "6 YLR293C (pp) YGL097W =  1 "
      ]
     },
     "metadata": {},
     "output_type": "display_data"
    }
   ],
   "source": [
    "# get attributes data\n",
    "gal.edge.attrs <- read.table('sampleData/galFiltered_edge.attrs',stringsAsFactors=FALSE, skip=1)\n",
    "head(gal.edge.attrs)"
   ]
  },
  {
   "cell_type": "code",
   "execution_count": 6,
   "metadata": {
    "collapsed": false
   },
   "outputs": [
    {
     "name": "stdout",
     "output_type": "stream",
     "text": [
      "[1] \"label\"\n",
      "[1] \"edgeType\"\n"
     ]
    }
   ],
   "source": [
    "# initEdgeAttribute\n",
    "g <- cw@graph\n",
    "g <- initEdgeAttribute (graph=g, attribute.name='edgeType', attribute.type='char', default.value='unspecified')\n",
    "\n",
    "# get EdgeAttrs\n",
    "gal.edge.fromvec = gal.edge.attrs[[1]]\n",
    "gal.edge.tovec = gal.edge.attrs[[3]]\n",
    "gal.edge.attrs = gal.edge.attrs[[5]]\n",
    "\n",
    "for (index in 1:length(gal.edge.fromvec)){\n",
    "    edgeData(g, gal.edge.fromvec[[index]] ,gal.edge.tovec[[index]], 'edgeType') <- as.character(gal.edge.attrs[[index]])\n",
    "}\n",
    "\n",
    "cw@graph <- g\n",
    "displayGraph (cw)"
   ]
  },
  {
   "cell_type": "code",
   "execution_count": 7,
   "metadata": {
    "collapsed": true
   },
   "outputs": [],
   "source": [
    "# clear selection\n",
    "clearSelection (cw)"
   ]
  },
  {
   "cell_type": "code",
   "execution_count": 8,
   "metadata": {
    "collapsed": false
   },
   "outputs": [],
   "source": [
    "# selection Edges\n",
    "vec = c()\n",
    "for (index in 1:length(gal.edge.fromvec)){\n",
    "    if(gal.edge.attrs[[index]] == '1'){\n",
    "        vec = c(vec, paste(gal.edge.fromvec[[index]], '(1)', gal.edge.tovec[[index]]))\n",
    "    }\n",
    "}\n",
    "selectEdges (cw, vec)"
   ]
  },
  {
   "cell_type": "markdown",
   "metadata": {},
   "source": [
    "Then, you can get the output,like the follwoing image, in cytoscape.\n",
    "\n",
    "![cytoscape image](select_edge_image.jpeg)"
   ]
  },
  {
   "cell_type": "markdown",
   "metadata": {},
   "source": [
    "# Hide these edges\n",
    "---------------------------------------\n",
    "\n",
    "If you want to hide selected edges, you can use this method.\n",
    "\n",
    "### Method : hideSelectedEdges\n",
    "\n",
    "#### Usage\n",
    "\n",
    "hideSelectedEdges(obj)\n",
    "\n",
    "#### Arguments\n",
    "\n",
    "obj a CytoscapeWindowClass object."
   ]
  },
  {
   "cell_type": "code",
   "execution_count": 9,
   "metadata": {
    "collapsed": false
   },
   "outputs": [
    {
     "data": {
      "text/plain": [
       "NULL"
      ]
     },
     "metadata": {},
     "output_type": "display_data"
    }
   ],
   "source": [
    "# The code is only this!!\n",
    "# TODO : this methods have some error. I can't do anything with this method.\n",
    "hideSelectedEdges (cw)"
   ]
  },
  {
   "cell_type": "markdown",
   "metadata": {},
   "source": [
    "# Select nodes based on some node attributes\n",
    "---------------------------------------\n",
    "\n",
    "### method : selectNodes\n",
    "\n",
    "#### Usage\n",
    "selectNodes(obj, node.names, preserve.current.selection=TRUE)\n",
    "\n",
    "#### Arguments\n",
    "\n",
    "- **obj** : a CytoscapeWindowClass object.\n",
    "- **node.names** : a list of strings, the names of nodes to select.\n",
    "- **preserve.current.selection** : a logical object.\n"
   ]
  },
  {
   "cell_type": "code",
   "execution_count": 10,
   "metadata": {
    "collapsed": false
   },
   "outputs": [
    {
     "data": {
      "text/html": [
       "<table>\n",
       "<thead><tr><th scope=col>V1</th><th scope=col>V2</th><th scope=col>V3</th></tr></thead>\n",
       "<tbody>\n",
       "\t<tr><td>YKR026C</td><td>=      </td><td>1      </td></tr>\n",
       "\t<tr><td>YGL122C</td><td>=      </td><td>1      </td></tr>\n",
       "\t<tr><td>YMR146C</td><td>=      </td><td>1      </td></tr>\n",
       "\t<tr><td>YDR429C</td><td>=      </td><td>1      </td></tr>\n",
       "\t<tr><td>YFL017C</td><td>=      </td><td>1      </td></tr>\n",
       "\t<tr><td>YOL123W</td><td>=      </td><td>1      </td></tr>\n",
       "</tbody>\n",
       "</table>\n"
      ],
      "text/latex": [
       "\\begin{tabular}{r|lll}\n",
       " V1 & V2 & V3\\\\\n",
       "\\hline\n",
       "\t YKR026C & =       & 1      \\\\\n",
       "\t YGL122C & =       & 1      \\\\\n",
       "\t YMR146C & =       & 1      \\\\\n",
       "\t YDR429C & =       & 1      \\\\\n",
       "\t YFL017C & =       & 1      \\\\\n",
       "\t YOL123W & =       & 1      \\\\\n",
       "\\end{tabular}\n"
      ],
      "text/plain": [
       "  V1      V2 V3\n",
       "1 YKR026C =  1 \n",
       "2 YGL122C =  1 \n",
       "3 YMR146C =  1 \n",
       "4 YDR429C =  1 \n",
       "5 YFL017C =  1 \n",
       "6 YOL123W =  1 "
      ]
     },
     "metadata": {},
     "output_type": "display_data"
    }
   ],
   "source": [
    "# get attributes data\n",
    "gal.node.attrs <- read.table('sampleData/galFiltered_node.attrs',stringsAsFactors=FALSE, skip=1)\n",
    "head(gal.node.attrs)"
   ]
  },
  {
   "cell_type": "code",
   "execution_count": 11,
   "metadata": {
    "collapsed": true
   },
   "outputs": [],
   "source": [
    "g <- cw@graph\n",
    "g <- initNodeAttribute (graph=g, attribute.name='moleculeType', attribute.type='char', default.value='undefined')\n",
    "\n",
    "# get EdgeAttrs\n",
    "gal.node = gal.node.attrs[[1]]\n",
    "gal.attrs = gal.node.attrs[[3]]\n",
    "\n",
    "#for (index in 1:length(gal.node)){\n",
    "#    nodeData (g, gal.node, 'moleculeType') <- as.character(gal.attrs[[index]])\n",
    "#}\n",
    "\n",
    "#cw <- setGraph (cw, g)\n",
    "#displayGraph (cw)"
   ]
  },
  {
   "cell_type": "code",
   "execution_count": 12,
   "metadata": {
    "collapsed": true
   },
   "outputs": [],
   "source": [
    "# clear selection\n",
    "clearSelection (cw)"
   ]
  },
  {
   "cell_type": "code",
   "execution_count": 13,
   "metadata": {
    "collapsed": false
   },
   "outputs": [],
   "source": [
    "vac = c()\n",
    "for (index in 1:length(gal.node)){\n",
    "    if(gal.attrs[[index]] == '1'){\n",
    "        vec = c(vec, gal.node[[index]])\n",
    "    }\n",
    "}\n",
    "\n",
    "selectNodes(cw, vec)"
   ]
  },
  {
   "cell_type": "markdown",
   "metadata": {},
   "source": [
    "Then, you can get the output,like the follwoing image, in cytoscape.\n",
    "\n",
    "![cytoscape image](select_nodes_image.jpeg)"
   ]
  },
  {
   "cell_type": "markdown",
   "metadata": {},
   "source": [
    "# Hide these nodes\n",
    "---------------------------------------\n",
    "### Method : hideSelectedNodes\n",
    "\n",
    "#### Usage\n",
    "\n",
    "hideSelectedNodes(obj)\n",
    "\n",
    "#### Arguments\n",
    "\n",
    "obj : a CytoscapeWindowClass object.\n"
   ]
  },
  {
   "cell_type": "code",
   "execution_count": 14,
   "metadata": {
    "collapsed": false
   },
   "outputs": [
    {
     "name": "stderr",
     "output_type": "stream",
     "text": [
      "not yet implemented\n"
     ]
    }
   ],
   "source": [
    "# TODO : There are some error in this method. I can't do anything by this.\n",
    "hideSelectedNodes(cw)\n",
    "\n"
   ]
  },
  {
   "cell_type": "markdown",
   "metadata": {},
   "source": [
    "# Apply a layout the the network that is not hidden\n",
    "---------------------------------------\n",
    "### Method : getLayoutNames, layoutNetwork\n",
    "\n",
    "We use two method in this section. 'getLayoutNames' let us know available layoutNames and we can apply one of them by 'layoutNetwork' method.\n",
    "\n",
    "#### 1. Usage\n",
    "getLayoutNames(obj)\n",
    "\n",
    "#### 1. Arguments\n",
    "obj : a CytoscapeConnectionClass object.\n",
    "\n",
    "#### 2. Usage\n",
    "layoutNetwork(obj, layout.name= grid )\n",
    "\n",
    "#### 2. Arguments\n",
    "obj a CytoscapeWindowClass object.\n",
    "layout.name a string, one of the values returned by getLayoutNames, ’grid’ by default.\n"
   ]
  },
  {
   "cell_type": "code",
   "execution_count": 131,
   "metadata": {
    "collapsed": false
   },
   "outputs": [
    {
     "data": {
      "text/html": [
       "<ol class=list-inline>\n",
       "\t<li>'attribute-circle'</li>\n",
       "\t<li>'stacked-node-layout'</li>\n",
       "\t<li>'degree-circle'</li>\n",
       "\t<li>'circular'</li>\n",
       "\t<li>'attributes-layout'</li>\n",
       "\t<li>'kamada-kawai'</li>\n",
       "\t<li>'force-directed'</li>\n",
       "\t<li>'grid'</li>\n",
       "\t<li>'hierarchical'</li>\n",
       "\t<li>'fruchterman-rheingold'</li>\n",
       "\t<li>'isom'</li>\n",
       "\t<li>'force-directed-cl'</li>\n",
       "</ol>\n"
      ],
      "text/latex": [
       "\\begin{enumerate*}\n",
       "\\item 'attribute-circle'\n",
       "\\item 'stacked-node-layout'\n",
       "\\item 'degree-circle'\n",
       "\\item 'circular'\n",
       "\\item 'attributes-layout'\n",
       "\\item 'kamada-kawai'\n",
       "\\item 'force-directed'\n",
       "\\item 'grid'\n",
       "\\item 'hierarchical'\n",
       "\\item 'fruchterman-rheingold'\n",
       "\\item 'isom'\n",
       "\\item 'force-directed-cl'\n",
       "\\end{enumerate*}\n"
      ],
      "text/markdown": [
       "1. 'attribute-circle'\n",
       "2. 'stacked-node-layout'\n",
       "3. 'degree-circle'\n",
       "4. 'circular'\n",
       "5. 'attributes-layout'\n",
       "6. 'kamada-kawai'\n",
       "7. 'force-directed'\n",
       "8. 'grid'\n",
       "9. 'hierarchical'\n",
       "10. 'fruchterman-rheingold'\n",
       "11. 'isom'\n",
       "12. 'force-directed-cl'\n",
       "\n",
       "\n"
      ],
      "text/plain": [
       " [1] \"attribute-circle\"      \"stacked-node-layout\"   \"degree-circle\"        \n",
       " [4] \"circular\"              \"attributes-layout\"     \"kamada-kawai\"         \n",
       " [7] \"force-directed\"        \"grid\"                  \"hierarchical\"         \n",
       "[10] \"fruchterman-rheingold\" \"isom\"                  \"force-directed-cl\"    "
      ]
     },
     "metadata": {},
     "output_type": "display_data"
    }
   ],
   "source": [
    "# get available layout names\n",
    "getLayoutNames(cw)"
   ]
  },
  {
   "cell_type": "code",
   "execution_count": 132,
   "metadata": {
    "collapsed": false
   },
   "outputs": [],
   "source": [
    "# execute layout that you want\n",
    "layoutNetwork(cw, layout.name= 'isom')"
   ]
  },
  {
   "cell_type": "markdown",
   "metadata": {},
   "source": [
    "Then, you can get the output,like the follwoing image, in cytoscape.\n",
    "\n",
    "![cytoscape image](isom_graph_image.jpeg)"
   ]
  },
  {
   "cell_type": "code",
   "execution_count": 134,
   "metadata": {
    "collapsed": true
   },
   "outputs": [],
   "source": [
    "# execute layout that you want\n",
    "layoutNetwork(cw, layout.name= 'kamada-kawai')"
   ]
  },
  {
   "cell_type": "markdown",
   "metadata": {},
   "source": [
    "Then, you can get the output,like the follwoing image, in cytoscape.\n",
    "\n",
    "![cytoscape image](kamada_kawai_image.jpeg)"
   ]
  },
  {
   "cell_type": "markdown",
   "metadata": {},
   "source": [
    "# Apply a visual style to this network\n",
    "---------------------------------------\n",
    "\n",
    "At this point I do every bit of the visual style manually, but it is always the same.\n",
    "\n",
    "That is because I do not know how to transfer a visual style from one session to the next yet.\n",
    "\n",
    "It would be great if that was automated (I do it manually for one network and then it is automatic for the following ones that have the same exact attributes)'"
   ]
  },
  {
   "cell_type": "code",
   "execution_count": 135,
   "metadata": {
    "collapsed": true
   },
   "outputs": [],
   "source": [
    "#TODO\n"
   ]
  },
  {
   "cell_type": "markdown",
   "metadata": {},
   "source": [
    "# Upload a network table, an edge attribute table and a node attribute table (all in xls)\n",
    "\n",
    "---------------------------------------\n",
    "\n",
    "\n"
   ]
  },
  {
   "cell_type": "code",
   "execution_count": null,
   "metadata": {
    "collapsed": true
   },
   "outputs": [],
   "source": [
    "#TODO\n"
   ]
  }
 ],
 "metadata": {
  "kernelspec": {
   "display_name": "R",
   "language": "R",
   "name": "ir"
  },
  "language_info": {
   "codemirror_mode": "r",
   "file_extension": ".r",
   "mimetype": "text/x-r-source",
   "name": "R",
   "pygments_lexer": "r",
   "version": "3.2.3"
  }
 },
 "nbformat": 4,
 "nbformat_minor": 0
}
