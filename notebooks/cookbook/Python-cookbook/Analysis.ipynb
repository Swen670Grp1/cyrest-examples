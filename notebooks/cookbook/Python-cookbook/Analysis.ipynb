{
 "cells": [
  {
   "cell_type": "markdown",
   "metadata": {
    "collapsed": true
   },
   "source": [
    "# Analysis\n",
    "---------------------------------------\n",
    "\n",
    "When you vizualize your network, you also want to analize the network. In this section, you can learn basic analysis methods to network. The methods used in this section are prepared in the Python's libraries, igraph, networkx and so on. So, we will also use them to analyze network and if you want to get more detail about this examples or find more information, please look at these documentations.\n",
    "\n",
    "## Further Information about igraph\n",
    "---------------------------------------\n",
    "- igraph : http://igraph.org\n",
    "- Python-igraph : http://igraph.org/python/\n",
    "- networkx : https://networkx.github.io\n",
    "\n",
    "## Table of contents\n",
    "---------------------------------------\n",
    "- Global Network Analysis\n",
    "    - Density\n",
    "    - Transivity\n",
    "    - community detection\n",
    "\n",
    "- Node Analysis\n",
    "    - Closeness\n",
    "    - Degree\n",
    "    - PageRank\n",
    "    - community detection\n",
    "\n",
    "- Edge Analysis\n",
    "    - EdgeBetweenness\n",
    "    - community detection"
   ]
  },
  {
   "cell_type": "markdown",
   "metadata": {},
   "source": [
    "# Network Data Preparation\n",
    "---------------------------------------\n",
    "\n",
    "To prepare network analysis, let's load network data."
   ]
  },
  {
   "cell_type": "code",
   "execution_count": 52,
   "metadata": {
    "collapsed": false
   },
   "outputs": [
    {
     "data": {
      "image/png": "[encoded data removed]",
      "text/plain": [
       "<IPython.core.display.Image object>"
      ]
     },
     "execution_count": 52,
     "metadata": {},
     "output_type": "execute_result"
    }
   ],
   "source": [
    "# import data from url\n",
    "from py2cytoscape.data.cyrest_client import CyRestClient\n",
    "from IPython.display import Image\n",
    "\n",
    "# Create REST client for Cytoscape\n",
    "cy = CyRestClient()\n",
    "\n",
    "# Reset current session for fresh start\n",
    "cy.session.delete()\n",
    "\n",
    "# Load a sample network\n",
    "network = cy.network.create_from('http://chianti.ucsd.edu/~kono/data/galFiltered.sif')\n",
    "\n",
    "# Apply layout to the cytoscape network object\n",
    "cy.layout.apply(network = network)\n",
    "\n",
    "# Show it!!\n",
    "network_png = network.get_png()\n",
    "Image(network_png)"
   ]
  },
  {
   "cell_type": "markdown",
   "metadata": {},
   "source": [
    "# Global Network Analysis\n",
    "---------------------------------------\n",
    "\n",
    "In this example, we will use \"igraph\" to analyze global network propety. \n",
    "\"igraph\" are the very popular and useful package and you can analyze your own network by this.\n",
    "\n",
    "And py2cytoscape can convert their own network to igraph object. So, first, we have to convert cytoscape network object to igraph object."
   ]
  },
  {
   "cell_type": "code",
   "execution_count": 55,
   "metadata": {
    "collapsed": false
   },
   "outputs": [],
   "source": [
    "# covert cytoscape network object to igraph object\n",
    "import igraph as ig\n",
    "import py2cytoscape.util.util_igraph as util_ig\n",
    "\n",
    "# convert cytoscape object to igraph object\n",
    "g = util_ig.to_igraph(network.to_json())"
   ]
  },
  {
   "cell_type": "markdown",
   "metadata": {},
   "source": [
    "## Density\n",
    "---------------------------------------\n",
    "\n",
    "Calculates the density of the graph.\n",
    "\n",
    "Further information : http://igraph.org/python/doc/igraph.GraphBase-class.html#density"
   ]
  },
  {
   "cell_type": "code",
   "execution_count": 57,
   "metadata": {
    "collapsed": false
   },
   "outputs": [
    {
     "name": "stdout",
     "output_type": "stream",
     "text": [
      "0.0066282156916598\n"
     ]
    }
   ],
   "source": [
    "density = g.density()\n",
    "print(density)"
   ]
  },
  {
   "cell_type": "markdown",
   "metadata": {},
   "source": [
    "## Transitivity\n",
    "---------------------------------------\n",
    "There are three methods to calculate the transitivity in igraph. In the following methods, we will use \"transitivity_undirected\" method.\n",
    "\n",
    "### Method : transitivity_avglocal_undirected\n",
    "Calculates the average of the vertex transitivities of the graph.\n",
    "\n",
    "http://igraph.org/python/doc/igraph.GraphBase-class.html#transitivity_avglocal_undirected\n",
    "\n",
    "### Method : transitivity_local_undirected\n",
    "Calculates the local transitivity (clustering coefficient) of the given vertices in the graph.\n",
    "\n",
    "http://igraph.org/python/doc/igraph.GraphBase-class.html#transitivity_local_undirected\n",
    "\n",
    "### Method : transitivity_undirected\n",
    "Calculates the global transitivity (clustering coefficient) of the graph.\n",
    "\n",
    "http://igraph.org/python/doc/igraph.GraphBase-class.html#transitivity_undirected"
   ]
  },
  {
   "cell_type": "code",
   "execution_count": 58,
   "metadata": {
    "collapsed": false
   },
   "outputs": [
    {
     "name": "stdout",
     "output_type": "stream",
     "text": [
      "0.078\n"
     ]
    }
   ],
   "source": [
    "transitivity  = g.transitivity_undirected()\n",
    "print(transitivity)"
   ]
  },
  {
   "cell_type": "markdown",
   "metadata": {},
   "source": [
    "## community detection\n",
    "---------------------------------------\n",
    "Finds the community structure of the graph according to the algorithm of Clauset et al based on the greedy optimization of modularity.\n",
    "http://igraph.org/python/doc/igraph.GraphBase-class.html#community_fastgreedy"
   ]
  },
  {
   "cell_type": "code",
   "execution_count": 72,
   "metadata": {
    "collapsed": false
   },
   "outputs": [],
   "source": [
    "# If you want to use this method, you have to use the non-multiple-edges graph object.\n",
    "#community_fastgreedy = g.community_fastgreedy()\n",
    "#print(community_fastgreedy)"
   ]
  },
  {
   "cell_type": "markdown",
   "metadata": {},
   "source": [
    "# Node Analysis\n",
    "---------------------------------------"
   ]
  },
  {
   "cell_type": "markdown",
   "metadata": {},
   "source": [
    "## Closeness\n",
    "---------------------------------------\n",
    "Calculates the closeness centralities of given vertices in a graph.\n",
    "\n",
    "http://igraph.org/python/doc/igraph.GraphBase-class.html#closeness"
   ]
  },
  {
   "cell_type": "code",
   "execution_count": 75,
   "metadata": {
    "collapsed": false
   },
   "outputs": [
    {
     "name": "stdout",
     "output_type": "stream",
     "text": [
      "[0.010857048856719856, 0.01094599973464243, 0.0030394856821803246, 0.011159204653050182, 0.011251662177367111, 0.011173562673528814, 0.0030486959895790026, 0.01122334455667789, 0.011220291727584918]\n"
     ]
    }
   ],
   "source": [
    "closeness = g.closeness()\n",
    "\n",
    "# Show 10 results of node closeness\n",
    "print(closeness[0:9])"
   ]
  },
  {
   "cell_type": "markdown",
   "metadata": {},
   "source": [
    "## Degree\n",
    "---------------------------------------\n",
    "\n",
    "- indegree\n",
    "  - Returns the in-degrees in a list.\tsource code\n",
    "  - http://igraph.org/python/doc/igraph.Graph-class.html#indegree\n",
    "- outdegree\n",
    "  - Returns the out-degrees in a list.\n",
    "  - http://igraph.org/python/doc/igraph.Graph-class.html#outdegree"
   ]
  },
  {
   "cell_type": "code",
   "execution_count": 74,
   "metadata": {
    "collapsed": false
   },
   "outputs": [
    {
     "name": "stdout",
     "output_type": "stream",
     "text": [
      "[1, 2, 1, 1, 2, 3, 1, 1, 1]\n",
      "[1, 2, 1, 1, 2, 3, 1, 1, 1]\n"
     ]
    }
   ],
   "source": [
    "indegree = g.indegree()\n",
    "outdegree = g.outdegree()\n",
    "# Show 10 results of node degree\n",
    "print(indegree[0:9])\n",
    "print(outdegree[0:9])"
   ]
  },
  {
   "cell_type": "markdown",
   "metadata": {},
   "source": [
    "## PageRank\n",
    "---------------------------------------\n",
    "Calculates the Google PageRank values of a graph.\n",
    "http://igraph.org/python/doc/igraph.Graph-class.html#pagerank"
   ]
  },
  {
   "cell_type": "code",
   "execution_count": 73,
   "metadata": {
    "collapsed": false
   },
   "outputs": [
    {
     "name": "stdout",
     "output_type": "stream",
     "text": [
      "[0.001669256848836194, 0.0028613756315192377, 0.002327100514415226, 0.0017009589539318975, 0.0025390848664674755, 0.003684617815271894, 0.0021201038850943766, 0.0016683223460983874, 0.0015002738267074773]\n"
     ]
    }
   ],
   "source": [
    "pagerank = g.pagerank()\n",
    "\n",
    "# Show 10 results of node degree\n",
    "print(pagerank[0:9])"
   ]
  },
  {
   "cell_type": "markdown",
   "metadata": {},
   "source": [
    "## community detection\n",
    "---------------------------------------\n",
    "Finds the community structure of the graph according to the algorithm of Clauset et al based on the greedy optimization of modularity.\n",
    "http://igraph.org/python/doc/igraph.GraphBase-class.html#community_fastgreedy"
   ]
  },
  {
   "cell_type": "code",
   "execution_count": null,
   "metadata": {
    "collapsed": true
   },
   "outputs": [],
   "source": [
    "# If you want to use this method, you have to use the non-multiple-edges graph object.\n",
    "#community_fastgreedy = g.community_fastgreedy()\n",
    "#print(community_fastgreedy)"
   ]
  },
  {
   "cell_type": "markdown",
   "metadata": {},
   "source": [
    "# Edge Analysis\n",
    "---------------------------------------"
   ]
  },
  {
   "cell_type": "markdown",
   "metadata": {},
   "source": [
    "## EdgeBetweenness\n",
    "---------------------------------------\n",
    "Calculates or estimates the edge betweennesses in a graph.\n",
    "http://igraph.org/python/doc/igraph.GraphBase-class.html#edge_betweenness"
   ]
  },
  {
   "cell_type": "code",
   "execution_count": 68,
   "metadata": {
    "collapsed": false
   },
   "outputs": [
    {
     "name": "stdout",
     "output_type": "stream",
     "text": [
      "[248.0, 494.0, 248.0, 1373.0, 1587.0, 1481.0, 2618.0, 3.0, 248.0]\n"
     ]
    }
   ],
   "source": [
    "edge_betweenness = g.edge_betweenness()\n",
    "print(edge_betweenness[0:9])"
   ]
  },
  {
   "cell_type": "markdown",
   "metadata": {},
   "source": [
    "## community detection\n",
    "---------------------------------------\n",
    "Community structure detection based on the betweenness of the edges in the network. \n",
    "http://igraph.org/python/doc/igraph.GraphBase-class.html#community_edge_betweenness"
   ]
  },
  {
   "cell_type": "code",
   "execution_count": 70,
   "metadata": {
    "collapsed": false
   },
   "outputs": [
    {
     "name": "stdout",
     "output_type": "stream",
     "text": [
      "Dendrogram, 331 elements, 305 merges\n"
     ]
    }
   ],
   "source": [
    "community_edge_betweenness_detection = g.community_edge_betweenness()\n",
    "print(community_edge_betweenness_detection)"
   ]
  }
 ],
 "metadata": {
  "kernelspec": {
   "display_name": "Python 3",
   "language": "python",
   "name": "python3"
  },
  "language_info": {
   "codemirror_mode": {
    "name": "ipython",
    "version": 3
   },
   "file_extension": ".py",
   "mimetype": "text/x-python",
   "name": "python",
   "nbconvert_exporter": "python",
   "pygments_lexer": "ipython3",
   "version": "3.5.2"
  }
 },
 "nbformat": 4,
 "nbformat_minor": 0
}
