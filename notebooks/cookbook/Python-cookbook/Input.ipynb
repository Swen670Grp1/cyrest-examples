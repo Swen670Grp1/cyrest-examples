{
 "cells": [
  {
   "cell_type": "code",
   "execution_count": null,
   "metadata": {
    "collapsed": true
   },
   "outputs": [],
   "source": []
  },
  {
   "cell_type": "code",
   "execution_count": null,
   "metadata": {
    "collapsed": true
   },
   "outputs": [],
   "source": []
  },
  {
   "cell_type": "code",
   "execution_count": null,
   "metadata": {
    "collapsed": true
   },
   "outputs": [],
   "source": []
  },
  {
   "cell_type": "code",
   "execution_count": 1,
   "metadata": {
    "collapsed": true
   },
   "outputs": [],
   "source": [
    "# import data from url\n",
    "from py2cytoscape.data.cynetwork import CyNetwork\n",
    "from py2cytoscape.data.cyrest_client import CyRestClient\n",
    "\n",
    "# Create REST client for Cytoscape\n",
    "cy = CyRestClient()\n",
    "\n",
    "# Reset current session for fresh start\n",
    "cy.session.delete()\n",
    "\n",
    "# Load a sample network\n",
    "network1 = cy.network.create_from('http://chianti.ucsd.edu/~kono/data/galFiltered.sif')\n"
   ]
  },
  {
   "cell_type": "code",
   "execution_count": null,
   "metadata": {
    "collapsed": true
   },
   "outputs": [],
   "source": []
  },
  {
   "cell_type": "code",
   "execution_count": null,
   "metadata": {
    "collapsed": true
   },
   "outputs": [],
   "source": [
    "# Load a single local file\n",
    "net_from_local2 = cy.network.create_from('../tests/data/galFiltered.json')\n",
    "net_from_local1 = cy.network.create_from('sample_yeast_network.xgmml', collection='My Collection')\n",
    "net_from_local2 = cy.network.create_from('../tests/data/galFiltered.gml', collection='My Collection')\n",
    "\n",
    "# Load from multiple locations\n",
    "network_locations = [\n",
    "    'sample_yeast_network.xgmml', # Local file\n",
    "    'http://chianti.ucsd.edu/cytoscape-data/galFiltered.sif', # Static file on a web server\n",
    "    'http://www.ebi.ac.uk/Tools/webservices/psicquic/intact/webservices/current/search/query/brca1?format=xml25' # or a web service\n",
    "]\n",
    "\n",
    "# This requrns Series\n",
    "networks = cy.network.create_from(network_locations)\n",
    "pd.DataFrame(networks, columns=['CyNetwork'])"
   ]
  },
  {
   "cell_type": "code",
   "execution_count": null,
   "metadata": {
    "collapsed": true
   },
   "outputs": [],
   "source": []
  },
  {
   "cell_type": "markdown",
   "metadata": {},
   "source": [
    "Create networks from various types of data\n",
    "\n",
    "Currently, py2cytoscape accepts the following data as input:\n",
    "- Cytoscape.js\n",
    "- NetworkX\n",
    "- Pandas DataFrame\n",
    "- igraph (TBD)\n",
    "- Numpy adjacency matrix (binary or weighted) (TBD)\n",
    "- GraphX (TBD)\n"
   ]
  },
  {
   "cell_type": "code",
   "execution_count": null,
   "metadata": {
    "collapsed": true
   },
   "outputs": [],
   "source": []
  },
  {
   "cell_type": "code",
   "execution_count": null,
   "metadata": {
    "collapsed": true
   },
   "outputs": [],
   "source": [
    "# Cytoscape.js JSON\n",
    "n1 = cy.network.create(data=cyjs.get_empty_network(), name='Created from Cytoscape.js JSON')"
   ]
  },
  {
   "cell_type": "code",
   "execution_count": null,
   "metadata": {
    "collapsed": true
   },
   "outputs": [],
   "source": []
  },
  {
   "cell_type": "code",
   "execution_count": null,
   "metadata": {
    "collapsed": true
   },
   "outputs": [],
   "source": [
    "# Pandas DataFrame\n",
    "\n",
    "# Example 1: From a simple text table\n",
    "df_from_sif = pd.read_csv('../tests/data/galFiltered.sif', names=['source', 'interaction', 'target'], sep=' ')\n",
    "df_from_sif.head()"
   ]
  },
  {
   "cell_type": "code",
   "execution_count": null,
   "metadata": {
    "collapsed": true
   },
   "outputs": [],
   "source": []
  },
  {
   "cell_type": "code",
   "execution_count": null,
   "metadata": {
    "collapsed": true
   },
   "outputs": [],
   "source": []
  }
 ],
 "metadata": {
  "kernelspec": {
   "display_name": "Python 3",
   "language": "python",
   "name": "python3"
  },
  "language_info": {
   "codemirror_mode": {
    "name": "ipython",
    "version": 3
   },
   "file_extension": ".py",
   "mimetype": "text/x-python",
   "name": "python",
   "nbconvert_exporter": "python",
   "pygments_lexer": "ipython3",
   "version": "3.5.2"
  }
 },
 "nbformat": 4,
 "nbformat_minor": 0
}
