{
 "cells": [
  {
   "cell_type": "markdown",
   "metadata": {},
   "source": [
    "# Layout\n",
    "---------------------------------------\n",
    "In this section, you can learn how to get the list of available layout and how to apply it.\n",
    "\n",
    "## Table of contents\n",
    "---------------------------------------\n",
    "- Get list of available layout\n",
    "- Apply layout\n",
    "- Fit an existing network view to current window"
   ]
  },
  {
   "cell_type": "markdown",
   "metadata": {},
   "source": [
    "# Network Data Preparation\n",
    "---------------------------------------"
   ]
  },
  {
   "cell_type": "code",
   "execution_count": 23,
   "metadata": {
    "collapsed": false
   },
   "outputs": [
    {
     "data": {
      "image/png": "[encoded data removed]",
      "text/plain": [
       "<IPython.core.display.Image object>"
      ]
     },
     "execution_count": 23,
     "metadata": {},
     "output_type": "execute_result"
    }
   ],
   "source": [
    "# import data from url\n",
    "from py2cytoscape.data.cyrest_client import CyRestClient\n",
    "from IPython.display import Image\n",
    "import json\n",
    "\n",
    "# Create REST client for Cytoscape\n",
    "cy = CyRestClient()\n",
    "\n",
    "# Reset current session for fresh start\n",
    "cy.session.delete()\n",
    "\n",
    "# Load a sample network\n",
    "network = cy.network.create_from('http://chianti.ucsd.edu/~kono/data/galFiltered.sif')\n",
    "\n",
    "# Apply layout to the cytoscape network object\n",
    "cy.layout.apply(network = network)\n",
    "\n",
    "#Fit an existing network view to current window.\n",
    "cy.layout.fit(network=network)\n",
    "\n",
    "# Show it!!\n",
    "Image(network.get_png(height=400))"
   ]
  },
  {
   "cell_type": "markdown",
   "metadata": {},
   "source": [
    "# Get list of available layout\n",
    "---------------------------------------"
   ]
  },
  {
   "cell_type": "code",
   "execution_count": 8,
   "metadata": {
    "collapsed": false
   },
   "outputs": [
    {
     "name": "stdout",
     "output_type": "stream",
     "text": [
      "[\n",
      "    \"attribute-circle\",\n",
      "    \"stacked-node-layout\",\n",
      "    \"degree-circle\",\n",
      "    \"circular\",\n",
      "    \"attributes-layout\",\n",
      "    \"kamada-kawai\",\n",
      "    \"force-directed\",\n",
      "    \"grid\",\n",
      "    \"hierarchical\",\n",
      "    \"fruchterman-rheingold\",\n",
      "    \"isom\",\n",
      "    \"force-directed-cl\"\n",
      "]\n"
     ]
    }
   ],
   "source": [
    "# Get list of available layout algorithms\n",
    "layouts = cy.layout.get_all()\n",
    "print(json.dumps(layouts, indent=4))"
   ]
  },
  {
   "cell_type": "markdown",
   "metadata": {},
   "source": [
    "# Apply layout\n",
    "---------------------------------------"
   ]
  },
  {
   "cell_type": "code",
   "execution_count": null,
   "metadata": {
    "collapsed": true
   },
   "outputs": [],
   "source": [
    "# Apply layout\n",
    "cy.layout.apply(name='circular', network=yeast1)"
   ]
  },
  {
   "cell_type": "markdown",
   "metadata": {},
   "source": [
    "# Fit an existing network view to current window"
   ]
  },
  {
   "cell_type": "code",
   "execution_count": 24,
   "metadata": {
    "collapsed": true
   },
   "outputs": [],
   "source": [
    "#Fit an existing network view to current window.\n",
    "cy.layout.fit(network=network)"
   ]
  }
 ],
 "metadata": {
  "kernelspec": {
   "display_name": "Python 3",
   "language": "python",
   "name": "python3"
  },
  "language_info": {
   "codemirror_mode": {
    "name": "ipython",
    "version": 3
   },
   "file_extension": ".py",
   "mimetype": "text/x-python",
   "name": "python",
   "nbconvert_exporter": "python",
   "pygments_lexer": "ipython3",
   "version": "3.5.2"
  }
 },
 "nbformat": 4,
 "nbformat_minor": 0
}
