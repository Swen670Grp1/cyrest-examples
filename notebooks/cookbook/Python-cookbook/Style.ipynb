{
 "cells": [
  {
   "cell_type": "markdown",
   "metadata": {},
   "source": [
    "# Style\n",
    "\n"
   ]
  },
  {
   "cell_type": "markdown",
   "metadata": {
    "collapsed": true
   },
   "source": [
    "# Visual Styles\n",
    "\n",
    "You can also use wrapper API to access Visual Styles.\n",
    "Current limitations are:\n",
    "- You need to use unique name for the Styles\n",
    "- Need to know how to write serialized form of objects"
   ]
  },
  {
   "cell_type": "code",
   "execution_count": null,
   "metadata": {
    "collapsed": true
   },
   "outputs": [],
   "source": [
    "# Get all existing Visual Styles\n",
    "import json\n",
    "styles = cy.style.get_all()\n",
    "print(json.dumps(styles, indent=4))\n",
    "\n",
    "# Create a new style\n",
    "style1 = cy.style.create('sample_style1')\n",
    "\n",
    "# Get a reference to the existing style\n",
    "default_style = cy.style.create('default')\n",
    "\n",
    "print(style1.get_name())\n",
    "print(default_style.get_name())\n",
    "\n",
    "# Get all available Visual Properties\n",
    "print(len(cy.style.vps.get_all()))\n",
    "\n",
    "# Get  Visual Properties for each data type\n",
    "node_vps = cy.style.vps.get_node_visual_props()\n",
    "edge_vps = cy.style.vps.get_edge_visual_props()\n",
    "network_vps = cy.style.vps.get_network_visual_props()\n",
    "\n",
    "print(pd.Series(edge_vps).head())"
   ]
  },
  {
   "cell_type": "code",
   "execution_count": null,
   "metadata": {
    "collapsed": true
   },
   "outputs": [],
   "source": [
    "# Prepare key-value pair for Style defaults\n",
    "\n",
    "new_defaults = {\n",
    "    # Node defaults\n",
    "    'NODE_FILL_COLOR': '#eeeeff',\n",
    "    'NODE_SIZE': 20,\n",
    "    'NODE_BORDER_WIDTH': 0,\n",
    "    'NODE_TRANSPARENCY': 120,\n",
    "    'NODE_LABEL_COLOR': 'white',\n",
    "    \n",
    "    # Edge defaults\n",
    "    'EDGE_WIDTH': 3,\n",
    "    'EDGE_STROKE_UNSELECTED_PAINT': '#aaaaaa',\n",
    "    'EDGE_LINE_TYPE': 'LONG_DASH',\n",
    "    'EDGE_TRANSPARENCY': 120,\n",
    "    \n",
    "    # Network defaults\n",
    "    'NETWORK_BACKGROUND_PAINT': 'black'\n",
    "}\n",
    "\n",
    "# Update\n",
    "style1.update_defaults(new_defaults)\n",
    "\n",
    "# Apply the new style\n",
    "cy.style.apply(style1, yeast1)"
   ]
  },
  {
   "cell_type": "markdown",
   "metadata": {},
   "source": [
    " # Visual Mappings"
   ]
  },
  {
   "cell_type": "code",
   "execution_count": null,
   "metadata": {
    "collapsed": true
   },
   "outputs": [],
   "source": [
    "# Passthrough mapping\n",
    "style1.create_passthrough_mapping(column='name', col_type='String', vp='NODE_LABEL')\n",
    "\n",
    "# Discrete mapping: Simply prepare key-value pairs and send it\n",
    "kv_pair = {\n",
    "    'pp': 'pink',\n",
    "    'pd': 'green'\n",
    "}\n",
    "style1.create_discrete_mapping(column='interaction', \n",
    "                               col_type='String', vp='EDGE_STROKE_UNSELECTED_PAINT', mappings=kv_pair)\n",
    "\n",
    "# Continuous mapping\n",
    "points = [\n",
    "    {\n",
    "        'value': '1.0',\n",
    "        'lesser':'white',\n",
    "        'equal':'white',\n",
    "        'greater': 'white'\n",
    "    },\n",
    "    {\n",
    "        'value': '20.0',\n",
    "        'lesser':'green',\n",
    "        'equal':'green',\n",
    "        'greater': 'green'\n",
    "    }\n",
    "]\n",
    "\n",
    "minimal_style = cy.style.create('Minimal')\n",
    "minimal_style.create_continuous_mapping(column='Degree', col_type='Double', vp='NODE_FILL_COLOR', points=points)\n",
    "\n",
    "# Or, use utility for simple mapping\n",
    "simple_slope = StyleUtil.create_slope(min=1, max=20, values=(10, 60))\n",
    "minimal_style.create_continuous_mapping(column='Degree', col_type='Double', vp='NODE_SIZE', points=simple_slope)\n",
    "\n",
    "# Apply the new style\n",
    "cy.style.apply(minimal_style, scale_free100)\n"
   ]
  },
  {
   "cell_type": "code",
   "execution_count": null,
   "metadata": {
    "collapsed": true
   },
   "outputs": [],
   "source": []
  }
 ],
 "metadata": {
  "kernelspec": {
   "display_name": "Python 3",
   "language": "python",
   "name": "python3"
  },
  "language_info": {
   "codemirror_mode": {
    "name": "ipython",
    "version": 3
   },
   "file_extension": ".py",
   "mimetype": "text/x-python",
   "name": "python",
   "nbconvert_exporter": "python",
   "pygments_lexer": "ipython3",
   "version": "3.5.2"
  }
 },
 "nbformat": 4,
 "nbformat_minor": 0
}
