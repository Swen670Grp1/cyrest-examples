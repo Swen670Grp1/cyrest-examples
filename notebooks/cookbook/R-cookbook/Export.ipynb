{
 "cells": [
  {
   "cell_type": "markdown",
   "metadata": {
    "collapsed": true
   },
   "source": [
    "# Export\n",
    "\n",
    "- Save Images\n",
    "  we can choose the format of the saving image in R.\n",
    "  - pdf\n",
    "  - png\n",
    "  - svg\n",
    "\n",
    "- Save Layout\n",
    "  - Save layout as file.\n",
    "\n",
    "- Save Network\n",
    "  - cys"
   ]
  },
  {
   "cell_type": "markdown",
   "metadata": {},
   "source": [
    "## Save Images\n",
    "\n",
    "We can choose the format of the saving image in R. To execute this examples, first, we have to import sample data.\n",
    "\n",
    "Write an image of the specified type to the specified file, at the specified scaling factor.\n",
    "\n",
    "Note: the file is written to the file system of the computer upon which R is running, not Cytoscape – in those cases where they are different. It is saved to the working directory."
   ]
  },
  {
   "cell_type": "code",
   "execution_count": 70,
   "metadata": {
    "collapsed": false
   },
   "outputs": [
    {
     "name": "stderr",
     "output_type": "stream",
     "text": [
      "Warning message:\n",
      "In .local(from, to, graph): edges replaced: ‘YPL248C|YML051W’"
     ]
    },
    {
     "name": "stdout",
     "output_type": "stream",
     "text": [
      "[1] \"label\"\n"
     ]
    }
   ],
   "source": [
    "# import library\n",
    "library(RCy3)\n",
    "library(igraph)\n",
    "\n",
    "# first, delete existing windows to save memory:\n",
    "deleteAllWindows(CytoscapeConnection())\n",
    "\n",
    "# Load Data\n",
    "gal.table <- read.table('../sampleData/galFiltered.sif',stringsAsFactors=FALSE)\n",
    "\n",
    "# create graph class\n",
    "g <- new ('graphNEL', edgemode='directed')\n",
    "\n",
    "# Get NodesVec\n",
    "gal.table.nodevec <- unique(c(gal.table[[1]], gal.table[[3]]))\n",
    "\n",
    "# add nodes to graph\n",
    "for(node in gal.table.nodevec){\n",
    "    g <- graph::addNode(node, g)\n",
    "}\n",
    "\n",
    "# get EdgeList\n",
    "gal.table.fromvec = gal.table[[1]]\n",
    "gal.table.tovec = gal.table[[3]]\n",
    "\n",
    "for (index in 1:length(gal.table.fromvec)){\n",
    "    g <- graph::addEdge (gal.table.fromvec[[index]] ,gal.table.tovec[[index]], g)\n",
    "}\n",
    "\n",
    "# show it in cytescape\n",
    "cw <- CytoscapeWindow('vignette', , graph=g, overwrite=TRUE)\n",
    "displayGraph (cw)\n",
    "layoutNetwork (cw, layout.name='degree-circle')"
   ]
  },
  {
   "cell_type": "markdown",
   "metadata": {},
   "source": [
    "Now, we can get the network in cytoscape. "
   ]
  },
  {
   "cell_type": "markdown",
   "metadata": {},
   "source": [
    "### Save image as pdf"
   ]
  },
  {
   "cell_type": "code",
   "execution_count": 71,
   "metadata": {
    "collapsed": false
   },
   "outputs": [],
   "source": [
    "# TODO : I don't know why this method is not available. So I have to find it.\n",
    "# print(saveImage(cw, 'sampleImage', 'pdf', 2.0))\n",
    "\n",
    "# The following code is available\n",
    "file.name <- paste (getwd (),  'saveImageTest' , sep= '/' )\n",
    "image.type <- 'pdf'\n",
    "\n",
    "resource.uri <- paste(cw@uri, \n",
    "                      pluginVersion(cw), \"networks\", as.character(cw@window.id), \n",
    "                      paste0(\"views/first.\", image.type), \n",
    "                      sep=\"/\")\n",
    "request.res <- GET(resource.uri, write_disk(paste0(file.name,\".\", image.type), overwrite = TRUE))"
   ]
  },
  {
   "cell_type": "markdown",
   "metadata": {},
   "source": [
    "![cytoscape image](saveImageTest.pdf)"
   ]
  },
  {
   "cell_type": "markdown",
   "metadata": {},
   "source": [
    "### Save image as png"
   ]
  },
  {
   "cell_type": "code",
   "execution_count": 72,
   "metadata": {
    "collapsed": true
   },
   "outputs": [],
   "source": [
    "# TODO : I don't know why this method is not available. So I have to find it.\n",
    "# print(saveImage(cw, 'sampleImage', 'png', 2.0))\n",
    "\n",
    "# The following code is available\n",
    "file.name <- paste (getwd (),  'saveImageTest' , sep= '/' )\n",
    "image.type <- 'png'\n",
    "\n",
    "resource.uri <- paste(cw@uri, \n",
    "                      pluginVersion(cw), \"networks\", as.character(cw@window.id), \n",
    "                      paste0(\"views/first.\", image.type), \n",
    "                      sep=\"/\")\n",
    "request.res <- GET(resource.uri, write_disk(paste0(file.name,\".\", image.type), overwrite = TRUE))"
   ]
  },
  {
   "cell_type": "code",
   "execution_count": 73,
   "metadata": {
    "collapsed": false
   },
   "outputs": [
    {
     "ename": "ERROR",
     "evalue": "Error in parse(text = x, srcfile = src): <text>:1:2:  予想外の '[' です \n1: ![\n     ^\n",
     "output_type": "error",
     "traceback": [
      "Error in parse(text = x, srcfile = src): <text>:1:2:  予想外の '[' です \n1: ![\n     ^\nTraceback:\n"
     ]
    }
   ],
   "source": [
    "![cytoscape image](saveImageTest.png)"
   ]
  },
  {
   "cell_type": "markdown",
   "metadata": {},
   "source": [
    "### Save image as svg"
   ]
  },
  {
   "cell_type": "code",
   "execution_count": 68,
   "metadata": {
    "collapsed": false
   },
   "outputs": [],
   "source": [
    "# TODO : I don't know why this method is not available. So I have to find it.\n",
    "# print(saveImage(cw, 'sampleImage', 'svg', 2.0))\n",
    "\n",
    "# The following code has also bag\n",
    "file.name <- paste (getwd (),  'saveImageTest' , sep= '/' )\n",
    "image.type <- 'svg'\n",
    "\n",
    "resource.uri <- paste(cw@uri, \n",
    "                      pluginVersion(cw), \"networks\", as.character(cw@window.id), \n",
    "                      paste0(\"views/first.\", image.type), \n",
    "                      sep=\"/\")\n",
    "request.res <- GET(resource.uri, write_disk(paste0(file.name,\".\", image.type), overwrite = TRUE))"
   ]
  },
  {
   "cell_type": "markdown",
   "metadata": {},
   "source": [
    "![cytoscape image](saveImageTest.svg)"
   ]
  },
  {
   "cell_type": "markdown",
   "metadata": {},
   "source": [
    "## Save Layout"
   ]
  },
  {
   "cell_type": "code",
   "execution_count": 65,
   "metadata": {
    "collapsed": true
   },
   "outputs": [],
   "source": [
    "# TODO : I don't know why this method is not available. So I have to find it.\n",
    "saveLayout (cw,  layout2 , timestamp.in.filename=TRUE)"
   ]
  },
  {
   "cell_type": "markdown",
   "metadata": {},
   "source": [
    "## Save Network"
   ]
  },
  {
   "cell_type": "code",
   "execution_count": 66,
   "metadata": {
    "collapsed": true
   },
   "outputs": [],
   "source": [
    "# TODO : I don't know why this method is not available. So I have to find it.\n",
    "# overwrites files with the same name\n",
    "saveNetwork (cw, 'sample')"
   ]
  },
  {
   "cell_type": "code",
   "execution_count": null,
   "metadata": {
    "collapsed": false
   },
   "outputs": [],
   "source": []
  },
  {
   "cell_type": "code",
   "execution_count": null,
   "metadata": {
    "collapsed": true
   },
   "outputs": [],
   "source": []
  }
 ],
 "metadata": {
  "kernelspec": {
   "display_name": "R",
   "language": "R",
   "name": "ir"
  },
  "language_info": {
   "codemirror_mode": "r",
   "file_extension": ".r",
   "mimetype": "text/x-r-source",
   "name": "R",
   "pygments_lexer": "r",
   "version": "3.2.3"
  }
 },
 "nbformat": 4,
 "nbformat_minor": 0
}
