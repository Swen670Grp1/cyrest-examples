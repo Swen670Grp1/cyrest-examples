{
 "cells": [
  {
   "cell_type": "markdown",
   "metadata": {
    "collapsed": true
   },
   "source": [
    "# Export\n",
    "---------------------------------------\n",
    "\n",
    "If you layout some network as you want to do, you also want to export or save that Images, Layout or Network. RCy3 can help you to export such data programatically.\n",
    "\n",
    "In this section, you can learn how to save images, layout and network. It is very easy.\n",
    "\n",
    "- Save Images\n",
    "  we can choose the format of the saving image in R. Now, we can save Images as pdf, png or svg.\n",
    "  - pdf\n",
    "  - png\n",
    "  - svg\n",
    "\n",
    "- Save Layout\n",
    "  You can save layout as file.\n",
    "\n",
    "- Save Network\n",
    "  - cys"
   ]
  },
  {
   "cell_type": "markdown",
   "metadata": {},
   "source": [
    "## To execute example, we have to import data.\n",
    "---------------------------------------\n",
    "\n",
    "To execute this examples, first, we have to import sample data."
   ]
  },
  {
   "cell_type": "code",
   "execution_count": 3,
   "metadata": {
    "collapsed": false
   },
   "outputs": [
    {
     "name": "stderr",
     "output_type": "stream",
     "text": [
      "Warning message:\n",
      "In .local(from, to, graph): edges replaced: ‘YPL248C|YML051W’"
     ]
    },
    {
     "name": "stdout",
     "output_type": "stream",
     "text": [
      "[1] \"label\"\n"
     ]
    }
   ],
   "source": [
    "# import library\n",
    "library(RCy3)\n",
    "library(igraph)\n",
    "\n",
    "# first, delete existing windows to save memory:\n",
    "deleteAllWindows(CytoscapeConnection())\n",
    "\n",
    "# Load Data\n",
    "gal.table <- read.table('../sampleData/galFiltered.sif',stringsAsFactors=FALSE)\n",
    "\n",
    "# create graph class\n",
    "g <- new ('graphNEL', edgemode='directed')\n",
    "\n",
    "# Get NodesVec\n",
    "gal.table.nodevec <- unique(c(gal.table[[1]], gal.table[[3]]))\n",
    "\n",
    "# add nodes to graph\n",
    "for(node in gal.table.nodevec){\n",
    "    g <- graph::addNode(node, g)\n",
    "}\n",
    "\n",
    "# get EdgeList\n",
    "gal.table.fromvec = gal.table[[1]]\n",
    "gal.table.tovec = gal.table[[3]]\n",
    "\n",
    "for (index in 1:length(gal.table.fromvec)){\n",
    "    g <- graph::addEdge (gal.table.fromvec[[index]] ,gal.table.tovec[[index]], g)\n",
    "}\n",
    "\n",
    "# show it in cytescape\n",
    "cw <- CytoscapeWindow('vignette', , graph=g, overwrite=TRUE)\n",
    "displayGraph (cw)\n",
    "layoutNetwork (cw, layout.name='degree-circle')"
   ]
  },
  {
   "cell_type": "markdown",
   "metadata": {},
   "source": [
    "Now, we can get the network in cytoscape. "
   ]
  },
  {
   "cell_type": "markdown",
   "metadata": {},
   "source": [
    "## Save Images\n",
    "---------------------------------------\n",
    "\n",
    "By using following method, you can save the network's image and choose the format of the saving image in R. Write an image of the specified type to the specified file, at the specified scaling factor.\n",
    "\n",
    "### Usage\n",
    "  saveImage(obj, file.name, image.type, scale)\n",
    "\n",
    "### Arguments\n",
    "- obj : a CytoscapeWindowClass object.\n",
    "- file.name : a char object. Use an explicit, full path, or this file will be written into your home directory.\n",
    "- image.type : a char object. ’jpg’ is the only image type currently supported\n",
    "- scale : a numeric object. How large (or small) to scale the image.\n",
    "\n",
    "Note: the file is written to the file system of the computer upon which R is running, not Cytoscape – in those cases where they are different. It is saved to the working directory.\n"
   ]
  },
  {
   "cell_type": "markdown",
   "metadata": {},
   "source": [
    "### Save image as pdf\n",
    "---------------------------------------"
   ]
  },
  {
   "cell_type": "code",
   "execution_count": 4,
   "metadata": {
    "collapsed": false
   },
   "outputs": [],
   "source": [
    "# TODO : I don't know why this method is not available. So I have to find it.\n",
    "# print(saveImage(cw, 'sampleImage', 'pdf', 2.0))\n",
    "\n",
    "# The following code is available\n",
    "file.name <- paste (getwd (),  'saveImageTest' , sep= '/' )\n",
    "image.type <- 'pdf'\n",
    "\n",
    "resource.uri <- paste(cw@uri, \n",
    "                      pluginVersion(cw), \"networks\", as.character(cw@window.id), \n",
    "                      paste0(\"views/first.\", image.type), \n",
    "                      sep=\"/\")\n",
    "request.res <- GET(resource.uri, write_disk(paste0(file.name,\".\", image.type), overwrite = TRUE))"
   ]
  },
  {
   "cell_type": "markdown",
   "metadata": {},
   "source": [
    "![cytoscape image](saveImageTest.pdf)"
   ]
  },
  {
   "cell_type": "markdown",
   "metadata": {},
   "source": [
    "### Save image as png\n",
    "---------------------------------------"
   ]
  },
  {
   "cell_type": "code",
   "execution_count": 5,
   "metadata": {
    "collapsed": true
   },
   "outputs": [],
   "source": [
    "# TODO : I don't know why this method is not available. So I have to find it.\n",
    "# print(saveImage(cw, 'sampleImage', 'png', 2.0))\n",
    "\n",
    "# The following code is available\n",
    "file.name <- paste (getwd (),  'saveImageTest' , sep= '/' )\n",
    "image.type <- 'png'\n",
    "\n",
    "resource.uri <- paste(cw@uri, \n",
    "                      pluginVersion(cw), \"networks\", as.character(cw@window.id), \n",
    "                      paste0(\"views/first.\", image.type), \n",
    "                      sep=\"/\")\n",
    "request.res <- GET(resource.uri, write_disk(paste0(file.name,\".\", image.type), overwrite = TRUE))"
   ]
  },
  {
   "cell_type": "markdown",
   "metadata": {},
   "source": [
    "![cytoscape image](saveImageTest.png)"
   ]
  },
  {
   "cell_type": "markdown",
   "metadata": {},
   "source": [
    "### Save image as svg\n",
    "---------------------------------------"
   ]
  },
  {
   "cell_type": "code",
   "execution_count": 6,
   "metadata": {
    "collapsed": false
   },
   "outputs": [],
   "source": [
    "# TODO : I don't know why this method is not available. So I have to find it.\n",
    "# print(saveImage(cw, 'sampleImage', 'svg', 2.0))\n",
    "\n",
    "# The following code has also bag\n",
    "file.name <- paste (getwd (),  'saveImageTest' , sep= '/' )\n",
    "image.type <- 'svg'\n",
    "\n",
    "resource.uri <- paste(cw@uri, \n",
    "                      pluginVersion(cw), \"networks\", as.character(cw@window.id), \n",
    "                      paste0(\"views/first.\", image.type), \n",
    "                      sep=\"/\")\n",
    "request.res <- GET(resource.uri, write_disk(paste0(file.name,\".\", image.type), overwrite = TRUE))"
   ]
  },
  {
   "cell_type": "markdown",
   "metadata": {},
   "source": [
    "![cytoscape image](saveImageTest.svg)"
   ]
  },
  {
   "cell_type": "markdown",
   "metadata": {},
   "source": [
    "## Save Layout\n",
    "---------------------------------------\n",
    "When you use the below method, you can save the current layout (that is, node positions) to the specified file.\n",
    "\n",
    "### Usage\n",
    "\n",
    "saveLayout(obj, filename, timestamp.in.filename=FALSE)\n",
    "\n",
    "### Arguments\n",
    "\n",
    "- obj : a CytoscapeWindowClass object.\n",
    "- filename : a string.\n",
    "- timestamp.in.filename : logical\n",
    "\n"
   ]
  },
  {
   "cell_type": "code",
   "execution_count": 7,
   "metadata": {
    "collapsed": false
   },
   "outputs": [],
   "source": [
    "# TODO : I don't know why this method is not available. So I have to find it.\n",
    "saveLayout (cw,  layout2 , timestamp.in.filename=TRUE)"
   ]
  },
  {
   "cell_type": "markdown",
   "metadata": {},
   "source": [
    "## Save Network\n",
    "---------------------------------------\n",
    "\n",
    "You can write a network of the specified type to the specified file, at the specified scaling factor.\n",
    "\n",
    "### Usage\n",
    "\n",
    "saveNetwork(obj, file.name, format= cys )\n",
    "\n",
    "### Arguments\n",
    "\n",
    "- obj : a CytoscapeWindowClass object.\n",
    "- file.name : a char object.\n",
    "- format : a char object. ’cys’ is the only type currently supported\n",
    "\n",
    "Note:the file is written to the file system of the computer upon which R is running, not Cytoscape – in those cases where they are different. It is saved to the working directory."
   ]
  },
  {
   "cell_type": "code",
   "execution_count": 8,
   "metadata": {
    "collapsed": true
   },
   "outputs": [],
   "source": [
    "# TODO : I don't know why this method is not available. So I have to find it.\n",
    "# overwrites files with the same name\n",
    "saveNetwork (cw, 'sample')"
   ]
  }
 ],
 "metadata": {
  "kernelspec": {
   "display_name": "R",
   "language": "R",
   "name": "ir"
  },
  "language_info": {
   "codemirror_mode": "r",
   "file_extension": ".r",
   "mimetype": "text/x-r-source",
   "name": "R",
   "pygments_lexer": "r",
   "version": "3.2.3"
  }
 },
 "nbformat": 4,
 "nbformat_minor": 0
}
