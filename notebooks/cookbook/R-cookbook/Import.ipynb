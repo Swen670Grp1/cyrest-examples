{
 "cells": [
  {
   "cell_type": "markdown",
   "metadata": {
    "collapsed": true
   },
   "source": [
    "# Import\n",
    "---------------------------------------\n",
    "\n",
    "Probably, You want to input data to Cytoscape by R. In this section, you will learn how to input each kind of data file/URL and how to import annotation data and merge it into Network data.\n",
    "\n",
    "## Table of contents\n",
    "---------------------------------------\n",
    "- Import Fixed-Format Network Files/URL\n",
    "  - http://manual.cytoscape.org/en/stable/Supported_Network_File_Formats.html#supported-network-file-formats\n",
    "  - Simple interaction file (SIF or .sif format)\n",
    "  - Nested network format (NNF or .nnf format)\n",
    "  - Graph Markup Language (GML or .gml format)\n",
    "  - XGMML (extensible graph markup and modelling language).\n",
    "  - SBML\n",
    "  - BioPAX\n",
    "  - PSI-MI Level 1 and 2.5\n",
    "  - GraphML\n",
    "  - Delimited text\n",
    "  - Excel Workbook (.xls, .xlsx)\n",
    "  - Cytoscape.js JSON\n",
    "\n",
    "- Import Annotation Data and merge it into Network data\n",
    "  - upload a network table, an edge attribute table and a node attribute table."
   ]
  },
  {
   "cell_type": "markdown",
   "metadata": {},
   "source": [
    "## Import data from local file.\n",
    "---------------------------------------\n",
    "\n",
    "### The support file types\n",
    "---------------------------------------\n",
    "In Cytoscape, there are several available file types. The following file formats are available.\n",
    "\n",
    "- Simple interaction file(SIF or .sif format)\n",
    "- Nested network format (NNF or .nnf format)\n",
    "- Graph Markup Language (GML or .gml format)\n",
    "- XGMML (extensible graph markup and modelling language)\n",
    "- SBML\n",
    "- BioPAX\n",
    "- PSI-MI Level 1 and 2.5\n",
    "- GraphML\n",
    "- Delimited text\n",
    "- Excel Workbook (.xls, .xlsx)\n",
    "- Cytoscape.js JSON\n",
    "\n",
    "Further information about Network Formats : http://wiki.cytoscape.org/Cytoscape_User_Manual/Network_Formats\n"
   ]
  },
  {
   "cell_type": "markdown",
   "metadata": {},
   "source": [
    "### Import data from simple interaction file.\n",
    "---------------------------------------\n",
    "\n",
    "This example is to import data from simple interaction file (SIF or .sif format)."
   ]
  },
  {
   "cell_type": "code",
   "execution_count": 52,
   "metadata": {
    "collapsed": false
   },
   "outputs": [
    {
     "name": "stderr",
     "output_type": "stream",
     "text": [
      "Warning message:\n",
      "In .local(from, to, graph): edges replaced: ‘YPL248C|YML051W’Warning message:\n",
      ":  使われていないコネクション 4 (../sampleData/galFiltered.sif) を閉じます "
     ]
    },
    {
     "name": "stdout",
     "output_type": "stream",
     "text": [
      "[1] \"label\"\n",
      "[1] \"edgeType\"\n"
     ]
    }
   ],
   "source": [
    "# import library\n",
    "library(RCy3)\n",
    "library(igraph)\n",
    "\n",
    "# import utility\n",
    "source(\"../../utility/import.R\")\n",
    "\n",
    "# first, delete existing windows to save memory:\n",
    "deleteAllWindows(CytoscapeConnection())\n",
    "\n",
    "# create graph class\n",
    "g <- new ('graphNEL', edgemode='directed')\n",
    "\n",
    "edgeDataDefaults(g, attr = \"edgeType\") <- \"undefined\"\n",
    "attr(edgeDataDefaults(g, attr = \"edgeType\"), \"class\") <- \"STRING\"\n",
    "\n",
    "# Load Data\n",
    "gal.matrix <- sifDataToMatrix('../sampleData/galFiltered.sif')\n",
    "\n",
    "# Get NodesVec\n",
    "gal.table.nodevec <- unique(c(gal.matrix[,1], gal.matrix[,3]))\n",
    "\n",
    "# add nodes to graph\n",
    "for(node in gal.table.nodevec){\n",
    "    g <- graph::addNode(node, g)\n",
    "}\n",
    "\n",
    "# get EdgeList and type\n",
    "gal.table.fromvec <- gal.matrix[,1]\n",
    "gal.table.type <- gal.matrix[,2]\n",
    "gal.table.tovec <-  gal.matrix[,3]\n",
    "\n",
    "for (index in 1:length(gal.table.fromvec)){\n",
    "    g <- graph::addEdge (gal.table.fromvec[[index]] ,gal.table.tovec[[index]], g)\n",
    "    edgeData(g, gal.table.fromvec[[index]] ,gal.table.tovec[[index]], \"edgeType\") <- gal.table.type[[index]]\n",
    "}\n",
    "\n",
    "# show it in cytescape\n",
    "cw <- CytoscapeWindow('vignette', graph=g, overwrite=TRUE)\n",
    "displayGraph (cw)\n",
    "layoutNetwork (cw, layout.name='degree-circle')"
   ]
  },
  {
   "cell_type": "markdown",
   "metadata": {},
   "source": [
    "## Import available file format's data by network URL list.\n",
    "---------------------------------------\n",
    "\n",
    "In Cytoscape, there are several available file types. The following file formats are available.\n",
    "\n",
    "- Simple interaction file(SIF or .sif format)\n",
    "- Nested network format (NNF or .nnf format)\n",
    "- Graph Markup Language (GML or .gml format)\n",
    "- XGMML (extensible graph markup and modelling language)\n",
    "- SBML\n",
    "- BioPAX\n",
    "- PSI-MI Level 1 and 2.5\n",
    "- GraphML\n",
    "- Delimited text\n",
    "- Excel Workbook (.xls, .xlsx)\n",
    "- Cytoscape.js JSON\n",
    "\n",
    "Further Network Formats : http://wiki.cytoscape.org/Cytoscape_User_Manual/Network_Formats\n",
    "\n",
    "By using following code, you can import data from url. As you can see below, you can import data from local file."
   ]
  },
  {
   "cell_type": "code",
   "execution_count": 93,
   "metadata": {
    "collapsed": false
   },
   "outputs": [],
   "source": [
    "# import library\n",
    "library(RCy3)\n",
    "library(igraph)\n",
    "\n",
    "# import utility\n",
    "source(\"../../utility/import.R\")\n",
    "\n",
    "# first, delete existing windows to save memory:\n",
    "deleteAllWindows(CytoscapeConnection())"
   ]
  },
  {
   "cell_type": "code",
   "execution_count": 83,
   "metadata": {
    "collapsed": false
   },
   "outputs": [],
   "source": [
    "# Next, you prepare network list.\n",
    "network_files = list(\n",
    "    # Local file in this example data directory\n",
    "    # filepath,\n",
    "\n",
    "    # SIF file on a web server\n",
    "    'http://chianti.ucsd.edu/cytoscape-data/galFiltered.sif',\n",
    "    'file:///Your/local/directory/cyrest-examples/notebooks/cookbook/R-cookbook',\n",
    "    'file:///Your/local/directory/cyrest-examples/notebooks/cookbook/sampleData/galFiltered.gml'\n",
    "    \n",
    "    # And of course, you can add as many files as you need...\n",
    ")\n",
    "\n",
    "res.cw <- createFrom(network_files)"
   ]
  },
  {
   "cell_type": "markdown",
   "metadata": {},
   "source": [
    "## Import Annotation Data and merge it into Network data\n",
    "---------------------------------------\n",
    "\n",
    "In some case, we want to load another network table, for example, an edge attribute table and a node attribute table and merge it into network data. \n",
    "\n",
    "In this example of workflow, by executing the following steps, you can load annotation data and merge it.\n",
    "\n",
    "1. First, import network data from local file/URL to Cytoscape.\n",
    "1. Second, import annotation data from database(in R, we can use bioconductor as database).\n",
    "  - Human database in bioconductor:\n",
    "  - https://www.bioconductor.org/packages/release/data/annotation/html/org.Hs.eg.db.html\n",
    "  - Yeast database in bioconductor :\n",
    "  - https://www.bioconductor.org/packages/release/data/annotation/html/org.Sc.sgd.db.html\n",
    "1. Finally, merge the above two data table and push it to Cytoscape.\n"
   ]
  },
  {
   "cell_type": "code",
   "execution_count": 21,
   "metadata": {
    "collapsed": false
   },
   "outputs": [
    {
     "name": "stderr",
     "output_type": "stream",
     "text": [
      "Warning message:\n",
      "In .local(from, to, graph): edges replaced: ‘YPL248C|YML051W’Warning message:\n",
      ":  使われていないコネクション 4 (../sampleData/galFiltered.sif) を閉じます "
     ]
    },
    {
     "name": "stdout",
     "output_type": "stream",
     "text": [
      "[1] \"label\"\n",
      "[1] \"edgeType\"\n"
     ]
    }
   ],
   "source": [
    "# import library\n",
    "library(RCy3)\n",
    "library(igraph)\n",
    "\n",
    "# import utility\n",
    "source(\"../../utility/import.R\")\n",
    "\n",
    "# first, delete existing windows to save memory:\n",
    "deleteAllWindows(CytoscapeConnection())\n",
    "\n",
    "# create graph class\n",
    "g <- new ('graphNEL', edgemode='directed')\n",
    "\n",
    "edgeDataDefaults(g, attr = \"edgeType\") <- \"undefined\"\n",
    "attr(edgeDataDefaults(g, attr = \"edgeType\"), \"class\") <- \"STRING\"\n",
    "\n",
    "# Load Data\n",
    "gal.matrix <- sifDataToMatrix('../sampleData/galFiltered.sif')\n",
    "\n",
    "# Get NodesVec\n",
    "gal.table.nodevec <- unique(c(gal.matrix[,1], gal.matrix[,3]))\n",
    "\n",
    "# add nodes to graph\n",
    "for(node in gal.table.nodevec){\n",
    "    g <- graph::addNode(node, g)\n",
    "}\n",
    "\n",
    "# get EdgeList and type\n",
    "gal.table.fromvec <- gal.matrix[,1]\n",
    "gal.table.type <- gal.matrix[,2]\n",
    "gal.table.tovec <-  gal.matrix[,3]\n",
    "\n",
    "for (index in 1:length(gal.table.fromvec)){\n",
    "    g <- graph::addEdge (gal.table.fromvec[[index]] ,gal.table.tovec[[index]], g)\n",
    "    edgeData(g, gal.table.fromvec[[index]] ,gal.table.tovec[[index]], \"edgeType\") <- gal.table.type[[index]]\n",
    "}\n",
    "\n",
    "# show it in cytescape\n",
    "cw <- CytoscapeWindow('vignette', graph=g, overwrite=TRUE)\n",
    "displayGraph (cw)\n",
    "layoutNetwork (cw, layout.name='degree-circle')"
   ]
  },
  {
   "cell_type": "code",
   "execution_count": 24,
   "metadata": {
    "collapsed": false
   },
   "outputs": [
    {
     "name": "stderr",
     "output_type": "stream",
     "text": [
      "'select()' returned 1:1 mapping between keys and columns\n",
      "'select()' returned 1:1 mapping between keys and columns\n",
      "'select()' returned 1:many mapping between keys and columns\n"
     ]
    },
    {
     "name": "stdout",
     "output_type": "stream",
     "text": [
      "[1] \"DESCRIPTION\"\n",
      "[1] \"name\"\n",
      "[1] \"label\"\n",
      "[1] \"edgeType\"\n"
     ]
    }
   ],
   "source": [
    "# Second, import annotation data from database(in R, we can use bioconductor as database).\n",
    "# import library to access database\n",
    "library(org.Sc.sgd.db)\n",
    "\n",
    "# import Data\n",
    "# DESCRIPTION data\n",
    "descriptions <- select(org.Sc.sgd.db, keys=getAllNodes(cw), columns=\"DESCRIPTION\")\n",
    "df.descriptions <- data.frame(descriptions)\n",
    "\n",
    "# GENENAME data\n",
    "gene.names <- select(org.Sc.sgd.db, keys=getAllNodes(cw), columns=\"GENENAME\")\n",
    "df.gene.names <- data.frame(gene.names)\n",
    "\n",
    "# GO data\n",
    "go <- select(org.Sc.sgd.db, keys=getAllNodes(cw), columns=\"GO\")\n",
    "df.go <- data.frame(go)\n",
    "\n",
    "# Finally, merge the above two data table and push it to Cytoscape.\n",
    "# set DESCRIPTION as attribute data\n",
    "nodeDataDefaults(g, attr = \"DESCRIPTION\") <- \"undefined\"\n",
    "attr(nodeDataDefaults(g, attr = \"DESCRIPTION\"), \"class\") <- \"STRING\"\n",
    "\n",
    "# set GENENAME as attribute data\n",
    "nodeDataDefaults(g, attr = \"name\") <- \"undefined\"\n",
    "attr(nodeDataDefaults(g, attr = \"name\"), \"class\") <- \"STRING\"\n",
    "\n",
    "# set GO as attribute data\n",
    "nodeDataDefaults(g, attr = \"go\") <- \"undefined\"\n",
    "attr(nodeDataDefaults(g, attr = \"go\"), \"class\") <- \"LIST\"\n",
    "\n",
    "# marge DESCRIPTION attribute.\n",
    "for (index in 1:length(df.descriptions$DESCRIPTION)){\n",
    "    nodeData(g, df.descriptions$ORF[[index]], \"DESCRIPTION\") <- df.descriptions$DESCRIPTION[[index]]\n",
    "}\n",
    "\n",
    "# marge GENENAME attribute.\n",
    "for (index in 1:length(df.gene.names$GENENAME)){\n",
    "    nodeData(g, df.gene.names$ORF[[index]], \"name\") <- df.gene.names$GENENAME[[index]]\n",
    "}\n",
    "\n",
    "# marge GO attribute.\n",
    "#for (index in 1:length(df.gene.names$GENENAME)){\n",
    "#    nodeData(g, df.gene.names$ORF[[index]], \"name\") <- df.gene.names$GENENAME[[index]]\n",
    "#}\n",
    "\n",
    "# show it.\n",
    "cw <- CytoscapeWindow('vignette', graph=g, overwrite=TRUE)\n",
    "displayGraph (cw)\n",
    "layoutNetwork (cw, layout.name='degree-circle')"
   ]
  },
  {
   "cell_type": "code",
   "execution_count": null,
   "metadata": {
    "collapsed": true
   },
   "outputs": [],
   "source": []
  }
 ],
 "metadata": {
  "kernelspec": {
   "display_name": "R",
   "language": "R",
   "name": "ir"
  },
  "language_info": {
   "codemirror_mode": "r",
   "file_extension": ".r",
   "mimetype": "text/x-r-source",
   "name": "R",
   "pygments_lexer": "r",
   "version": "3.2.3"
  }
 },
 "nbformat": 4,
 "nbformat_minor": 0
}
