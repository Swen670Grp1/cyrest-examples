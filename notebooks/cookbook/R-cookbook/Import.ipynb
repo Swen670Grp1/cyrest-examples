{
 "cells": [
  {
   "cell_type": "markdown",
   "metadata": {
    "collapsed": true
   },
   "source": [
    "# Import\n",
    "\n",
    "You want to input data to Cytoscape by R. In this section, you will learn how to input each kind of data file/URL and how to import annotation data and merge it into Network data.\n",
    "\n",
    "## The support file types\n",
    "\n",
    "In Cytoscape, there are several available file types. The following file formats are available.\n",
    "\n",
    "- Simple interaction file(SIF or .sif format)\n",
    "- Nested network format (NNF or .nnf format)\n",
    "- Graph Markup Language (GML or .gml format)\n",
    "- XGMML (extensible graph markup and modelling language)\n",
    "- SBML\n",
    "- BioPAX\n",
    "- PSI-MI Level 1 and 2.5\n",
    "- GraphML\n",
    "- Delimited text\n",
    "- Excel Workbook (.xls, .xlsx)\n",
    "- Cytoscape.js JSON\n",
    "\n",
    "Further Network Formats : http://wiki.cytoscape.org/Cytoscape_User_Manual/Network_Formats\n",
    "\n",
    "\n"
   ]
  },
  {
   "cell_type": "markdown",
   "metadata": {},
   "source": [
    "## Import data from local file.\n",
    "\n"
   ]
  },
  {
   "cell_type": "markdown",
   "metadata": {},
   "source": [
    "### Simple interaction file (SIF or .sif format)"
   ]
  },
  {
   "cell_type": "code",
   "execution_count": 19,
   "metadata": {
    "collapsed": false
   },
   "outputs": [
    {
     "name": "stderr",
     "output_type": "stream",
     "text": [
      "Warning message:\n",
      "In .local(from, to, graph): edges replaced: ‘YPL248C|YML051W’"
     ]
    },
    {
     "name": "stdout",
     "output_type": "stream",
     "text": [
      "[1] \"label\"\n"
     ]
    }
   ],
   "source": [
    "# import library\n",
    "library(RCy3)\n",
    "library(igraph)\n",
    "\n",
    "# import utility\n",
    "source(\"../../utility/import.R\")\n",
    "\n",
    "# first, delete existing windows to save memory:\n",
    "deleteAllWindows(CytoscapeConnection())\n",
    "\n",
    "# create graph class\n",
    "g <- new ('graphNEL', edgemode='directed')\n",
    "\n",
    "# Load Data\n",
    "gal.matrix <- sifDataToMatrix('../sampleData/galFiltered.sif')\n",
    "\n",
    "# Get NodesVec\n",
    "gal.table.nodevec <- unique(c(gal.matrix[,1], gal.matrix[,3]))\n",
    "\n",
    "# add nodes to graph\n",
    "for(node in gal.table.nodevec){\n",
    "    g <- graph::addNode(node, g)\n",
    "}\n",
    "\n",
    "# get EdgeList\n",
    "gal.table.fromvec = gal.matrix[,1]\n",
    "gal.table.tovec = gal.matrix[,3]\n",
    "\n",
    "for (index in 1:length(gal.table.fromvec)){\n",
    "    g <- graph::addEdge (gal.table.fromvec[[index]] ,gal.table.tovec[[index]], g)\n",
    "}\n",
    "\n",
    "# show it in cytescape\n",
    "cw <- CytoscapeWindow('vignette', , graph=g, overwrite=TRUE)\n",
    "displayGraph (cw)\n",
    "layoutNetwork (cw, layout.name='degree-circle')"
   ]
  },
  {
   "cell_type": "code",
   "execution_count": 17,
   "metadata": {
    "collapsed": false
   },
   "outputs": [],
   "source": []
  },
  {
   "cell_type": "markdown",
   "metadata": {},
   "source": [
    "### Nested network format (NNF or .nnf format)"
   ]
  },
  {
   "cell_type": "code",
   "execution_count": null,
   "metadata": {
    "collapsed": true
   },
   "outputs": [],
   "source": []
  },
  {
   "cell_type": "markdown",
   "metadata": {},
   "source": [
    "### Graph Markup Language (GML or .gml format)"
   ]
  },
  {
   "cell_type": "code",
   "execution_count": null,
   "metadata": {
    "collapsed": true
   },
   "outputs": [],
   "source": []
  },
  {
   "cell_type": "markdown",
   "metadata": {},
   "source": [
    "### XGMML (extensible graph markup and modelling language)"
   ]
  },
  {
   "cell_type": "code",
   "execution_count": null,
   "metadata": {
    "collapsed": true
   },
   "outputs": [],
   "source": []
  },
  {
   "cell_type": "markdown",
   "metadata": {},
   "source": [
    "### SBML"
   ]
  },
  {
   "cell_type": "code",
   "execution_count": null,
   "metadata": {
    "collapsed": true
   },
   "outputs": [],
   "source": []
  },
  {
   "cell_type": "markdown",
   "metadata": {},
   "source": [
    "### BioPAX"
   ]
  },
  {
   "cell_type": "code",
   "execution_count": null,
   "metadata": {
    "collapsed": true
   },
   "outputs": [],
   "source": []
  },
  {
   "cell_type": "markdown",
   "metadata": {},
   "source": [
    "### PSI-MI Level 1 and 2.5"
   ]
  },
  {
   "cell_type": "code",
   "execution_count": null,
   "metadata": {
    "collapsed": true
   },
   "outputs": [],
   "source": []
  },
  {
   "cell_type": "markdown",
   "metadata": {},
   "source": [
    "### GraphML"
   ]
  },
  {
   "cell_type": "code",
   "execution_count": null,
   "metadata": {
    "collapsed": true
   },
   "outputs": [],
   "source": []
  },
  {
   "cell_type": "markdown",
   "metadata": {},
   "source": [
    "### Delimited text"
   ]
  },
  {
   "cell_type": "code",
   "execution_count": null,
   "metadata": {
    "collapsed": true
   },
   "outputs": [],
   "source": []
  },
  {
   "cell_type": "markdown",
   "metadata": {},
   "source": [
    "### Excel Workbook (.xls, .xlsx)"
   ]
  },
  {
   "cell_type": "code",
   "execution_count": null,
   "metadata": {
    "collapsed": true
   },
   "outputs": [],
   "source": []
  },
  {
   "cell_type": "markdown",
   "metadata": {},
   "source": [
    "### Cytoscape.js JSON"
   ]
  },
  {
   "cell_type": "code",
   "execution_count": null,
   "metadata": {
    "collapsed": true
   },
   "outputs": [],
   "source": []
  },
  {
   "cell_type": "code",
   "execution_count": null,
   "metadata": {
    "collapsed": true
   },
   "outputs": [],
   "source": []
  },
  {
   "cell_type": "code",
   "execution_count": null,
   "metadata": {
    "collapsed": true
   },
   "outputs": [],
   "source": []
  }
 ],
 "metadata": {
  "kernelspec": {
   "display_name": "R",
   "language": "R",
   "name": "ir"
  },
  "language_info": {
   "codemirror_mode": "r",
   "file_extension": ".r",
   "mimetype": "text/x-r-source",
   "name": "R",
   "pygments_lexer": "r",
   "version": "3.2.3"
  }
 },
 "nbformat": 4,
 "nbformat_minor": 0
}
