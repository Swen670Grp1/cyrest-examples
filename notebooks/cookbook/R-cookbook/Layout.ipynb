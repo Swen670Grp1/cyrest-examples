{
 "cells": [
  {
   "cell_type": "markdown",
   "metadata": {
    "collapsed": true
   },
   "source": [
    "# Layout\n",
    "\n",
    "- Get list of available layout\n",
    "- Apply layout\n",
    "- Save Layout"
   ]
  },
  {
   "cell_type": "markdown",
   "metadata": {},
   "source": [
    "To execute this examples, first, we have to import sample data."
   ]
  },
  {
   "cell_type": "code",
   "execution_count": 2,
   "metadata": {
    "collapsed": false
   },
   "outputs": [
    {
     "name": "stderr",
     "output_type": "stream",
     "text": [
      "Warning message:\n",
      "In .local(from, to, graph): edges replaced: ‘YPL248C|YML051W’"
     ]
    },
    {
     "name": "stdout",
     "output_type": "stream",
     "text": [
      "[1] \"label\"\n"
     ]
    }
   ],
   "source": [
    "# import library\n",
    "library(RCy3)\n",
    "library(igraph)\n",
    "\n",
    "# first, delete existing windows to save memory:\n",
    "deleteAllWindows(CytoscapeConnection())\n",
    "\n",
    "# Load Data\n",
    "gal.table <- read.table('../sampleData/galFiltered.sif',stringsAsFactors=FALSE)\n",
    "\n",
    "# create graph class\n",
    "g <- new ('graphNEL', edgemode='directed')\n",
    "\n",
    "# Get NodesVec\n",
    "gal.table.nodevec <- unique(c(gal.table[[1]], gal.table[[3]]))\n",
    "\n",
    "# add nodes to graph\n",
    "for(node in gal.table.nodevec){\n",
    "    g <- graph::addNode(node, g)\n",
    "}\n",
    "\n",
    "# get EdgeList\n",
    "gal.table.fromvec = gal.table[[1]]\n",
    "gal.table.tovec = gal.table[[3]]\n",
    "\n",
    "for (index in 1:length(gal.table.fromvec)){\n",
    "    g <- graph::addEdge (gal.table.fromvec[[index]] ,gal.table.tovec[[index]], g)\n",
    "}\n",
    "\n",
    "# show it in cytescape\n",
    "cw <- CytoscapeWindow('vignette', , graph=g, overwrite=TRUE)\n",
    "displayGraph (cw)\n",
    "layoutNetwork (cw, layout.name='degree-circle')"
   ]
  },
  {
   "cell_type": "markdown",
   "metadata": {},
   "source": [
    "## Get list of available layout\n",
    "---------------------------------------\n",
    "\n",
    "### Method : getLayoutNames\n",
    "\n",
    "We use two method in this section. 'getLayoutNames' let us know available layoutNames and we can apply one of them by 'layoutNetwork' method.\n",
    "\n",
    "#### Usage\n",
    "getLayoutNames(obj)\n",
    "\n",
    "#### Arguments\n",
    "obj : a CytoscapeConnectionClass object."
   ]
  },
  {
   "cell_type": "code",
   "execution_count": 3,
   "metadata": {
    "collapsed": false
   },
   "outputs": [
    {
     "data": {
      "text/html": [
       "<ol class=list-inline>\n",
       "\t<li>'attribute-circle'</li>\n",
       "\t<li>'stacked-node-layout'</li>\n",
       "\t<li>'degree-circle'</li>\n",
       "\t<li>'circular'</li>\n",
       "\t<li>'attributes-layout'</li>\n",
       "\t<li>'kamada-kawai'</li>\n",
       "\t<li>'force-directed'</li>\n",
       "\t<li>'grid'</li>\n",
       "\t<li>'hierarchical'</li>\n",
       "\t<li>'fruchterman-rheingold'</li>\n",
       "\t<li>'isom'</li>\n",
       "\t<li>'force-directed-cl'</li>\n",
       "</ol>\n"
      ],
      "text/latex": [
       "\\begin{enumerate*}\n",
       "\\item 'attribute-circle'\n",
       "\\item 'stacked-node-layout'\n",
       "\\item 'degree-circle'\n",
       "\\item 'circular'\n",
       "\\item 'attributes-layout'\n",
       "\\item 'kamada-kawai'\n",
       "\\item 'force-directed'\n",
       "\\item 'grid'\n",
       "\\item 'hierarchical'\n",
       "\\item 'fruchterman-rheingold'\n",
       "\\item 'isom'\n",
       "\\item 'force-directed-cl'\n",
       "\\end{enumerate*}\n"
      ],
      "text/markdown": [
       "1. 'attribute-circle'\n",
       "2. 'stacked-node-layout'\n",
       "3. 'degree-circle'\n",
       "4. 'circular'\n",
       "5. 'attributes-layout'\n",
       "6. 'kamada-kawai'\n",
       "7. 'force-directed'\n",
       "8. 'grid'\n",
       "9. 'hierarchical'\n",
       "10. 'fruchterman-rheingold'\n",
       "11. 'isom'\n",
       "12. 'force-directed-cl'\n",
       "\n",
       "\n"
      ],
      "text/plain": [
       " [1] \"attribute-circle\"      \"stacked-node-layout\"   \"degree-circle\"        \n",
       " [4] \"circular\"              \"attributes-layout\"     \"kamada-kawai\"         \n",
       " [7] \"force-directed\"        \"grid\"                  \"hierarchical\"         \n",
       "[10] \"fruchterman-rheingold\" \"isom\"                  \"force-directed-cl\"    "
      ]
     },
     "metadata": {},
     "output_type": "display_data"
    }
   ],
   "source": [
    "# get available layout names\n",
    "getLayoutNames(cw)"
   ]
  },
  {
   "cell_type": "markdown",
   "metadata": {},
   "source": [
    "## Apply layout\n",
    "---------------------------------------\n",
    "\n",
    "### Method : layoutNetwork\n",
    "\n",
    "#### Usage\n",
    "layoutNetwork(obj, layout.name= grid )\n",
    "\n",
    "#### Arguments\n",
    "obj a CytoscapeWindowClass object.\n",
    "layout.name a string, one of the values returned by getLayoutNames, ’grid’ by default.\n"
   ]
  },
  {
   "cell_type": "code",
   "execution_count": 4,
   "metadata": {
    "collapsed": true
   },
   "outputs": [],
   "source": [
    "# execute layout that you want\n",
    "layoutNetwork(cw, layout.name= 'isom')"
   ]
  },
  {
   "cell_type": "markdown",
   "metadata": {},
   "source": [
    "## Save Layout"
   ]
  },
  {
   "cell_type": "code",
   "execution_count": 5,
   "metadata": {
    "collapsed": true
   },
   "outputs": [],
   "source": [
    "# TODO : I don't know why this method is not available. So I have to find it.\n",
    "saveLayout (cw,  layout2 , timestamp.in.filename=TRUE)\n"
   ]
  },
  {
   "cell_type": "code",
   "execution_count": null,
   "metadata": {
    "collapsed": true
   },
   "outputs": [],
   "source": []
  }
 ],
 "metadata": {
  "kernelspec": {
   "display_name": "R",
   "language": "R",
   "name": "ir"
  },
  "language_info": {
   "codemirror_mode": "r",
   "file_extension": ".r",
   "mimetype": "text/x-r-source",
   "name": "R",
   "pygments_lexer": "r",
   "version": "3.2.3"
  }
 },
 "nbformat": 4,
 "nbformat_minor": 0
}
