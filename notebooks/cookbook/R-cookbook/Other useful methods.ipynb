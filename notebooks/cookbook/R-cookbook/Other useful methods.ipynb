{
 "cells": [
  {
   "cell_type": "markdown",
   "metadata": {
    "collapsed": true
   },
   "source": [
    "# Other useful methods\n",
    "---------------------------------------\n",
    "\n",
    "In this section, you can learn useful methods but not in other sections.\n",
    "\n",
    "## Table of contents\n",
    "- Select\n",
    "  - edges\n",
    "  - nodes\n",
    "\n",
    "- Hide\n",
    "  - edges\n",
    "  - nodes\n",
    "  \n",
    "- Clear Selection"
   ]
  },
  {
   "cell_type": "markdown",
   "metadata": {},
   "source": [
    "# Network Data Preparation\n",
    "---------------------------------------\n",
    "\n",
    "To execute this sample, first we have to import sample data."
   ]
  },
  {
   "cell_type": "code",
   "execution_count": 31,
   "metadata": {
    "collapsed": false
   },
   "outputs": [
    {
     "name": "stderr",
     "output_type": "stream",
     "text": [
      "Warning message:\n",
      "In .local(from, to, graph): edges replaced: ‘YPL248C|YML051W’Warning message:\n",
      ":  使われていないコネクション 4 (../sampleData/galFiltered.sif) を閉じます "
     ]
    },
    {
     "name": "stdout",
     "output_type": "stream",
     "text": [
      "[1] \"label\"\n",
      "[1] \"edgeType\"\n"
     ]
    }
   ],
   "source": [
    "# import library\n",
    "library(RCy3)\n",
    "library(igraph)\n",
    "\n",
    "# import utility\n",
    "source(\"../../utility/import.R\")\n",
    "\n",
    "# first, delete existing windows to save memory:\n",
    "deleteAllWindows(CytoscapeConnection())\n",
    "\n",
    "# create graph class\n",
    "g <- new ('graphNEL', edgemode='directed')\n",
    "\n",
    "edgeDataDefaults(g, attr = \"edgeType\") <- \"undefined\"\n",
    "attr(edgeDataDefaults(g, attr = \"edgeType\"), \"class\") <- \"STRING\"\n",
    "\n",
    "# Load Data\n",
    "gal.matrix <- sifDataToMatrix('../sampleData/galFiltered.sif')\n",
    "\n",
    "# Get NodesVec\n",
    "gal.table.nodevec <- unique(c(gal.matrix[,1], gal.matrix[,3]))\n",
    "\n",
    "# add nodes to graph\n",
    "for(node in gal.table.nodevec){\n",
    "    g <- graph::addNode(node, g)\n",
    "}\n",
    "\n",
    "# get EdgeList and type\n",
    "gal.table.fromvec <- gal.matrix[,1]\n",
    "gal.table.type <- gal.matrix[,2]\n",
    "gal.table.tovec <-  gal.matrix[,3]\n",
    "\n",
    "for (index in 1:length(gal.table.fromvec)){\n",
    "    g <- graph::addEdge (gal.table.fromvec[[index]] ,gal.table.tovec[[index]], g)\n",
    "    edgeData(g, gal.table.fromvec[[index]] ,gal.table.tovec[[index]], \"edgeType\") <- gal.table.type[[index]]\n",
    "}\n",
    "\n",
    "# show it in cytescape\n",
    "cw <- CytoscapeWindow('vignette', graph=g, overwrite=TRUE)\n",
    "displayGraph (cw)\n",
    "layoutNetwork (cw, layout.name='degree-circle')"
   ]
  },
  {
   "cell_type": "markdown",
   "metadata": {},
   "source": [
    "# Select\n",
    "---------------------------------------\n",
    "\n",
    "You may want to select edges and nodes. By using following methods, you can select edges and nodes and if you would like to select them by attribution, you should read and try this examples.\n"
   ]
  },
  {
   "cell_type": "markdown",
   "metadata": {},
   "source": [
    "### Select edges\n",
    "---------------------------------------\n",
    "\n",
    "### Method : selectEdges\n",
    "\n",
    "#### Usage\n",
    "selectEdges(obj, edge.names, preserve.current.selection=TRUE)\n",
    "\n",
    "#### Arguments\n",
    "\n",
    "- **obj** : a CytoscapeWindowClass object.  \n",
    "- **edge.names** : a list of strings, the names of edges to select.  \n",
    "- **preserve.current.selection** : a logical object.  "
   ]
  },
  {
   "cell_type": "code",
   "execution_count": 32,
   "metadata": {
    "collapsed": false
   },
   "outputs": [],
   "source": [
    "# Select edge by selecting edge directly\n",
    "# The name format is \"geneA (relation) geneB\".\n",
    "selectEdges(cw, paste(gal.table.fromvec[[1]], \" (\",gal.table.type[[1]], \") \",gal.table.tovec[[1]], sep=\"\"))\n",
    "\n",
    "# The following code is for showing the result network image.\n",
    "file.name <- paste (getwd (), 'resultImage' , 'showImageSelectOneEdge' , sep= '/' )\n",
    "image.type <- 'png'\n",
    "\n",
    "resource.uri <- paste(cw@uri, \n",
    "                      pluginVersion(cw), \"networks\", as.character(cw@window.id), \n",
    "                      paste0(\"views/first.\", image.type), \n",
    "                      sep=\"/\")\n",
    "request.res <- GET(resource.uri, write_disk(paste0(file.name,\".\", image.type), overwrite = TRUE))"
   ]
  },
  {
   "cell_type": "markdown",
   "metadata": {},
   "source": [
    "![cytoscape image](resultImage/showImageSelectOneEdge.png)"
   ]
  },
  {
   "cell_type": "code",
   "execution_count": 33,
   "metadata": {
    "collapsed": true
   },
   "outputs": [],
   "source": [
    "# Select edges by attribution.\n",
    "vec = c()\n",
    "for (index in 1:length(gal.table.fromvec)){\n",
    "    if(gal.table.type[[index]] == 'pp'){\n",
    "        vec = c(vec, paste(gal.table.fromvec[[index]], \" (\",gal.table.type[[index]], \") \", gal.table.tovec[[index]],sep=\"\"))\n",
    "    }\n",
    "}\n",
    "selectEdges (cw, vec)\n",
    "\n",
    "# The following code is for showing the result network image.\n",
    "file.name <- paste (getwd (), 'resultImage' ,'showImageSelectEdgeByAttribution' , sep= '/' )\n",
    "image.type <- 'png'\n",
    "\n",
    "resource.uri <- paste(cw@uri, \n",
    "                      pluginVersion(cw), \"networks\", as.character(cw@window.id), \n",
    "                      paste0(\"views/first.\", image.type), \n",
    "                      sep=\"/\")\n",
    "request.res <- GET(resource.uri, write_disk(paste0(file.name,\".\", image.type), overwrite = TRUE))"
   ]
  },
  {
   "cell_type": "markdown",
   "metadata": {},
   "source": [
    "![cytoscape image](resultImage/showImageSelectEdgeByAttribution.png)"
   ]
  },
  {
   "cell_type": "markdown",
   "metadata": {},
   "source": [
    "## Select nodes\n",
    "---------------------------------------\n",
    "\n",
    "### method : selectNodes\n",
    "\n",
    "#### Usage\n",
    "selectNodes(obj, node.names, preserve.current.selection=TRUE)\n",
    "\n",
    "#### Arguments\n",
    "\n",
    "- **obj** : a CytoscapeWindowClass object.\n",
    "- **node.names** : a list of strings, the names of nodes to select.\n",
    "- **preserve.current.selection** : a logical object."
   ]
  },
  {
   "cell_type": "code",
   "execution_count": 37,
   "metadata": {
    "collapsed": true
   },
   "outputs": [],
   "source": [
    "# select node by its name\n",
    "selectNodes(cw, \"YKR026C\")\n",
    "\n",
    "# The following code is for showing the result network image.\n",
    "file.name <- paste (getwd(), 'resultImage' , 'showImageSelectOneNode' , sep= '/' )\n",
    "image.type <- 'png'\n",
    "\n",
    "resource.uri <- paste(cw@uri, \n",
    "                      pluginVersion(cw), \"networks\", as.character(cw@window.id), \n",
    "                      paste0(\"views/first.\", image.type), \n",
    "                      sep=\"/\")\n",
    "request.res <- GET(resource.uri, write_disk(paste0(file.name,\".\", image.type), overwrite = TRUE))"
   ]
  },
  {
   "cell_type": "markdown",
   "metadata": {},
   "source": [
    "![cytoscape image](resultImage/showImageSelectOneNode.png)"
   ]
  },
  {
   "cell_type": "code",
   "execution_count": 38,
   "metadata": {
    "collapsed": false
   },
   "outputs": [
    {
     "data": {
      "text/html": [
       "<table>\n",
       "<thead><tr><th scope=col>V1</th><th scope=col>V2</th><th scope=col>V3</th></tr></thead>\n",
       "<tbody>\n",
       "\t<tr><td>YKR026C</td><td>=      </td><td>1      </td></tr>\n",
       "\t<tr><td>YGL122C</td><td>=      </td><td>1      </td></tr>\n",
       "\t<tr><td>YMR146C</td><td>=      </td><td>1      </td></tr>\n",
       "\t<tr><td>YDR429C</td><td>=      </td><td>1      </td></tr>\n",
       "\t<tr><td>YFL017C</td><td>=      </td><td>1      </td></tr>\n",
       "\t<tr><td>YOL123W</td><td>=      </td><td>1      </td></tr>\n",
       "</tbody>\n",
       "</table>\n"
      ],
      "text/latex": [
       "\\begin{tabular}{r|lll}\n",
       " V1 & V2 & V3\\\\\n",
       "\\hline\n",
       "\t YKR026C & =       & 1      \\\\\n",
       "\t YGL122C & =       & 1      \\\\\n",
       "\t YMR146C & =       & 1      \\\\\n",
       "\t YDR429C & =       & 1      \\\\\n",
       "\t YFL017C & =       & 1      \\\\\n",
       "\t YOL123W & =       & 1      \\\\\n",
       "\\end{tabular}\n"
      ],
      "text/plain": [
       "  V1      V2 V3\n",
       "1 YKR026C =  1 \n",
       "2 YGL122C =  1 \n",
       "3 YMR146C =  1 \n",
       "4 YDR429C =  1 \n",
       "5 YFL017C =  1 \n",
       "6 YOL123W =  1 "
      ]
     },
     "metadata": {},
     "output_type": "display_data"
    }
   ],
   "source": [
    "# get attributes data\n",
    "gal.node.attrs <- read.table('../sampleData/galFiltered_node.attrs',stringsAsFactors=FALSE, skip=1)\n",
    "head(gal.node.attrs)"
   ]
  },
  {
   "cell_type": "code",
   "execution_count": 39,
   "metadata": {
    "collapsed": false
   },
   "outputs": [],
   "source": [
    "vac = c()\n",
    "for (index in 1:length(gal.node.attrs)){\n",
    "    if(gal.node.attrs[[index,3]] == 1){\n",
    "        vec = c(vec, gal.node.attrs[[index,1]])\n",
    "    }\n",
    "}\n",
    "\n",
    "# select Nodes by attribution\n",
    "selectNodes(cw, vec)\n",
    "\n",
    "# The following code is for showing the result network image.\n",
    "file.name <- paste (getwd (), 'resultImage' , 'showImageSelectNodesByAttribution' , sep= '/' )\n",
    "image.type <- 'png'\n",
    "\n",
    "resource.uri <- paste(cw@uri, \n",
    "                      pluginVersion(cw), \"networks\", as.character(cw@window.id), \n",
    "                      paste0(\"views/first.\", image.type), \n",
    "                      sep=\"/\")\n",
    "request.res <- GET(resource.uri, write_disk(paste0(file.name,\".\", image.type), overwrite = TRUE))"
   ]
  },
  {
   "cell_type": "markdown",
   "metadata": {},
   "source": [
    "![cytoscape image](resultImage/showImageSelectNodesByAttribution.png)"
   ]
  },
  {
   "cell_type": "markdown",
   "metadata": {},
   "source": [
    "# Hide\n",
    "---------------------------------------"
   ]
  },
  {
   "cell_type": "markdown",
   "metadata": {},
   "source": [
    "## Hide edges\n",
    "---------------------------------------\n",
    "\n",
    "If you want to hide edges, you can use this method. To use this method and hide edges that you want to hide, you should select which edges you want to hide.\n",
    "\n",
    "### Method : hideSelectedEdges\n",
    "\n",
    "#### Usage\n",
    "\n",
    "hideSelectedEdges(obj)\n",
    "\n",
    "#### Arguments\n",
    "\n",
    "obj a CytoscapeWindowClass object."
   ]
  },
  {
   "cell_type": "code",
   "execution_count": 27,
   "metadata": {
    "collapsed": false
   },
   "outputs": [
    {
     "data": {
      "text/plain": [
       "NULL"
      ]
     },
     "metadata": {},
     "output_type": "display_data"
    }
   ],
   "source": [
    "# Hide selected nodes\n",
    "hideSelectedEdges(cw)"
   ]
  },
  {
   "cell_type": "markdown",
   "metadata": {},
   "source": [
    "## Hide nodes\n",
    "---------------------------------------\n",
    "\n",
    "### Method : hideSelectedNodes\n",
    "\n",
    "#### Usage\n",
    "\n",
    "hideSelectedNodes(obj)\n",
    "\n",
    "#### Arguments\n",
    "\n",
    "obj : a CytoscapeWindowClass object."
   ]
  },
  {
   "cell_type": "code",
   "execution_count": 28,
   "metadata": {
    "collapsed": false
   },
   "outputs": [
    {
     "name": "stderr",
     "output_type": "stream",
     "text": [
      "not yet implemented\n"
     ]
    }
   ],
   "source": [
    "# Hide selected nodes\n",
    "hideSelectedNodes(cw)"
   ]
  },
  {
   "cell_type": "markdown",
   "metadata": {},
   "source": [
    "# Clear selection\n",
    "\n",
    "If any nodes are selected in the current Cytocape window and you want to clear selection, following method will be useful.\n",
    "\n",
    "### Usage\n",
    "clearSelection(obj)\n",
    "\n",
    "### Arguments\n",
    "\n",
    "- obj : a CytoscapeWindowClass object.\n"
   ]
  },
  {
   "cell_type": "code",
   "execution_count": 29,
   "metadata": {
    "collapsed": false
   },
   "outputs": [],
   "source": [
    "# clear Selection\n",
    "clearSelection (cw)"
   ]
  }
 ],
 "metadata": {
  "kernelspec": {
   "display_name": "R",
   "language": "R",
   "name": "ir"
  },
  "language_info": {
   "codemirror_mode": "r",
   "file_extension": ".r",
   "mimetype": "text/x-r-source",
   "name": "R",
   "pygments_lexer": "r",
   "version": "3.2.3"
  }
 },
 "nbformat": 4,
 "nbformat_minor": 0
}
