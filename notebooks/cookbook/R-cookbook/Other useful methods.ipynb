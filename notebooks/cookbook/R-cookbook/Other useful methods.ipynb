{
 "cells": [
  {
   "cell_type": "markdown",
   "metadata": {
    "collapsed": true
   },
   "source": [
    "# Other methods\n",
    "\n",
    "- Select\n",
    "  - edges\n",
    "  - nodes\n",
    "\n",
    "- Deselect\n",
    "  - edges\n",
    "  - nodes\n",
    "\n",
    "- Hide\n",
    "  - edges\n",
    "  - nodes"
   ]
  },
  {
   "cell_type": "markdown",
   "metadata": {},
   "source": [
    "## Import Data\n",
    "\n",
    "To execute this sample, first we have to import sample data."
   ]
  },
  {
   "cell_type": "code",
   "execution_count": 3,
   "metadata": {
    "collapsed": false
   },
   "outputs": [
    {
     "name": "stderr",
     "output_type": "stream",
     "text": [
      "Warning message:\n",
      "In .local(from, to, graph): edges replaced: ‘YPL248C|YML051W’"
     ]
    },
    {
     "name": "stdout",
     "output_type": "stream",
     "text": [
      "[1] \"label\"\n"
     ]
    }
   ],
   "source": [
    "# import library\n",
    "library(RCy3)\n",
    "library(igraph)\n",
    "\n",
    "# first, delete existing windows to save memory:\n",
    "deleteAllWindows(CytoscapeConnection())\n",
    "\n",
    "# Load Data\n",
    "gal.table <- read.table('../sampleData/galFiltered.sif',stringsAsFactors=FALSE)\n",
    "\n",
    "# create graph class\n",
    "g <- new ('graphNEL', edgemode='directed')\n",
    "\n",
    "# Get NodesVec\n",
    "gal.table.nodevec <- unique(c(gal.table[[1]], gal.table[[3]]))\n",
    "\n",
    "# add nodes to graph\n",
    "for(node in gal.table.nodevec){\n",
    "    g <- graph::addNode(node, g)\n",
    "}\n",
    "\n",
    "# get EdgeList\n",
    "gal.table.fromvec = gal.table[[1]]\n",
    "gal.table.tovec = gal.table[[3]]\n",
    "\n",
    "for (index in 1:length(gal.table.fromvec)){\n",
    "    g <- graph::addEdge (gal.table.fromvec[[index]] ,gal.table.tovec[[index]], g)\n",
    "}\n",
    "\n",
    "# show it in cytescape\n",
    "cw <- CytoscapeWindow('vignette', , graph=g, overwrite=TRUE)\n",
    "displayGraph (cw)\n",
    "layoutNetwork (cw, layout.name='degree-circle')"
   ]
  },
  {
   "cell_type": "markdown",
   "metadata": {},
   "source": [
    "## Select\n",
    "---------------------------------------"
   ]
  },
  {
   "cell_type": "markdown",
   "metadata": {},
   "source": [
    "### Select edges\n",
    "---------------------------------------\n",
    "\n",
    "### Method : selectEdges\n",
    "\n",
    "#### Usage\n",
    "selectEdges(obj, edge.names, preserve.current.selection=TRUE)\n",
    "\n",
    "#### Arguments\n",
    "\n",
    "- **obj** : a CytoscapeWindowClass object.  \n",
    "- **edge.names** : a list of strings, the names of edges to select.  \n",
    "- **preserve.current.selection** : a logical object.  "
   ]
  },
  {
   "cell_type": "code",
   "execution_count": null,
   "metadata": {
    "collapsed": true
   },
   "outputs": [],
   "source": []
  },
  {
   "cell_type": "markdown",
   "metadata": {},
   "source": [
    "### Select nodes\n",
    "---------------------------------------\n",
    "\n",
    "### method : selectNodes\n",
    "\n",
    "#### Usage\n",
    "selectNodes(obj, node.names, preserve.current.selection=TRUE)\n",
    "\n",
    "#### Arguments\n",
    "\n",
    "- **obj** : a CytoscapeWindowClass object.\n",
    "- **node.names** : a list of strings, the names of nodes to select.\n",
    "- **preserve.current.selection** : a logical object."
   ]
  },
  {
   "cell_type": "code",
   "execution_count": 4,
   "metadata": {
    "collapsed": false
   },
   "outputs": [
    {
     "name": "stderr",
     "output_type": "stream",
     "text": [
      "Warning message:\n",
      "In file(file, \"rt\"):  ファイル 'sampleData/galFiltered_node.attrs' を開くことができません: No such file or directory "
     ]
    }
   ],
   "source": [
    "# get attributes data\n",
    "gal.node.attrs <- read.table('sampleData/galFiltered_node.attrs',stringsAsFactors=FALSE, skip=1)\n",
    "head(gal.node.attrs)"
   ]
  },
  {
   "cell_type": "markdown",
   "metadata": {},
   "source": [
    "## Deselect\n",
    "---------------------------------------\n",
    "\n"
   ]
  },
  {
   "cell_type": "markdown",
   "metadata": {},
   "source": [
    "### Deselect edges\n",
    "---------------------------------------"
   ]
  },
  {
   "cell_type": "code",
   "execution_count": null,
   "metadata": {
    "collapsed": true
   },
   "outputs": [],
   "source": []
  },
  {
   "cell_type": "markdown",
   "metadata": {},
   "source": [
    "### Deselect nodes\n",
    "---------------------------------------"
   ]
  },
  {
   "cell_type": "code",
   "execution_count": null,
   "metadata": {
    "collapsed": true
   },
   "outputs": [],
   "source": []
  },
  {
   "cell_type": "markdown",
   "metadata": {},
   "source": [
    "## Hide\n",
    "---------------------------------------"
   ]
  },
  {
   "cell_type": "markdown",
   "metadata": {},
   "source": [
    "### Hide edges\n",
    "---------------------------------------\n",
    "\n",
    "If you want to hide edges, you can use this method. To use this method and hide edges that you want to hide, you should select which edges you want to hide.\n",
    "\n",
    "### Method : hideSelectedEdges\n",
    "\n",
    "#### Usage\n",
    "\n",
    "hideSelectedEdges(obj)\n",
    "\n",
    "#### Arguments\n",
    "\n",
    "obj a CytoscapeWindowClass object."
   ]
  },
  {
   "cell_type": "code",
   "execution_count": null,
   "metadata": {
    "collapsed": true
   },
   "outputs": [],
   "source": []
  },
  {
   "cell_type": "markdown",
   "metadata": {},
   "source": [
    "### Hide nodes\n",
    "---------------------------------------\n",
    "\n",
    "### Method : hideSelectedNodes\n",
    "\n",
    "#### Usage\n",
    "\n",
    "hideSelectedNodes(obj)\n",
    "\n",
    "#### Arguments\n",
    "\n",
    "obj : a CytoscapeWindowClass object."
   ]
  },
  {
   "cell_type": "code",
   "execution_count": null,
   "metadata": {
    "collapsed": true
   },
   "outputs": [],
   "source": []
  },
  {
   "cell_type": "code",
   "execution_count": null,
   "metadata": {
    "collapsed": true
   },
   "outputs": [],
   "source": []
  }
 ],
 "metadata": {
  "kernelspec": {
   "display_name": "R",
   "language": "R",
   "name": "ir"
  },
  "language_info": {
   "codemirror_mode": "r",
   "file_extension": ".r",
   "mimetype": "text/x-r-source",
   "name": "R",
   "pygments_lexer": "r",
   "version": "3.2.3"
  }
 },
 "nbformat": 4,
 "nbformat_minor": 0
}
