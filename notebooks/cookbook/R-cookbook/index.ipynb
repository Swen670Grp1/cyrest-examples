{
 "cells": [
  {
   "cell_type": "markdown",
   "metadata": {},
   "source": [
    "# R's cookbook for people who want to use Cytoscape from R\n",
    "---------------------------------------\n",
    "\n",
    "This is the R's cookbook. By reading or trying to execute this cookbook, you can learn how to use Cytoscape from R.\n"
   ]
  },
  {
   "cell_type": "markdown",
   "metadata": {},
   "source": [
    "# The Cookbook contents\n",
    "---------------------------------------\n",
    "\n",
    "- Link to [Import](Import.ipynb) cookbook\n",
    "- Link to [Analysis](Analysis.ipynb) cookbook\n",
    "- Link to [Layout](Layout.ipynb) cookbook\n",
    "- Link to [Style](Style.ipynb) cookbook\n",
    "- Link to [Export](Export.ipynb) cookbook\n",
    "- Link to [Other methods](Other useful methods.ipynb) cookbook\n"
   ]
  },
  {
   "cell_type": "markdown",
   "metadata": {},
   "source": [
    "# Requirements\n",
    "---------------------------------------\n",
    "\n",
    "- docker \n",
    "- Java SE 8\n",
    "- Cytoscape version 3.3+\n",
    "- CyREST (py2cytoscape/RCy3)"
   ]
  },
  {
   "cell_type": "markdown",
   "metadata": {},
   "source": [
    "# Create your environment by docker to execute Jupyter Notebook\n",
    "\n",
    "In this cookbook, we use so many packages, framework and so on. So, to avoid dependency hell, please build your environment by docker.\n",
    "\n",
    "To create stable environment, we prepare docker image for you. Please read following documents and build environment.\n",
    "\n",
    "* [Overview](https://github.com/idekerlab/cyrest-examples/tree/master/docker)\n",
    "* [For R users](https://github.com/idekerlab/cyrest-examples/tree/master/docker/R)\n"
   ]
  },
  {
   "cell_type": "markdown",
   "metadata": {},
   "source": [
    "# What is the Cytoscape and RCy3\n",
    "---------------------------------------\n",
    "\n",
    "## What is the Cytoscape?\n",
    "---------------------------------------\n",
    "\n",
    "Cytoscape is an open source software platform for visualizing molecular interaction networks and biological pathways and integrating these networks with annotations, gene expression profiles and other state data. Although Cytoscape was originally designed for biological research, now it is a general platform for complex network analysis and visualization.\n",
    "\n",
    "Cytoscape core distribution provides a basic set of features for data integration, analysis, and visualization.   Additional features are available as Apps (formerly called Plugins). Apps are available for network and molecular profiling analyses, new layouts, additional file format support, scripting, and connection with databases. They may be developed by anyone using the Cytoscape open API based on Java™ technology and App community development is encouraged. Most of the Apps are freely available from Cytoscape App Store.\n",
    "\n",
    "http://www.cytoscape.org/what_is_cytoscape.html\n",
    "\n",
    "http://www.cytoscape.org\n",
    "\n",
    "\n",
    "## What is the RCy3?\n",
    "---------------------------------------\n",
    "\n",
    "R is a powerful programming language and environment for statistical and exploratory data analysis. RCy3 uses CyREST to communicate between R and Cytoscape, allowing Bioconductor graphs to be viewed, explored and manipulated with the Cytoscape point-and-click visual interface. Thus, via RCy3, these two quite different, quite useful bioinformatics software environments are connected, mutually enhancing each other, providing new possibilities for exploring biological data.\n",
    "\n",
    "https://bioconductor.org/packages/release/bioc/html/RCy3.html\n"
   ]
  }
 ],
 "metadata": {
  "kernelspec": {
   "display_name": "R",
   "language": "R",
   "name": "ir"
  },
  "language_info": {
   "codemirror_mode": "r",
   "file_extension": ".r",
   "mimetype": "text/x-r-source",
   "name": "R",
   "pygments_lexer": "r",
   "version": "3.2.3"
  }
 },
 "nbformat": 4,
 "nbformat_minor": 0
}
