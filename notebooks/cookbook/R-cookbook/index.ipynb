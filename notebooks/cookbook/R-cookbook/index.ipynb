{
 "cells": [
  {
   "cell_type": "markdown",
   "metadata": {},
   "source": [
    "# R's cookbook for people who want to use cytoscape from R\n",
    "---------------------------------------\n",
    "\n",
    "This is the R's cookbook. By reading or try to execute this cookbook, you can learn how to use cytoscape from R.\n"
   ]
  },
  {
   "cell_type": "markdown",
   "metadata": {},
   "source": [
    "# ○Requirements\n",
    "---------------------------------------\n",
    "\n",
    "- docker \n",
    "- Java SE 8\n",
    "- Cytoscape version 3.3+\n",
    "- CyREST (py2cytoscape/RCy3)"
   ]
  },
  {
   "cell_type": "markdown",
   "metadata": {},
   "source": [
    "# ○Create your environment by docker to execute jupyter notebook\n",
    "---------------------------------------\n",
    "\n",
    "In this cookbook, we use so many packages, framework and so on. So, to avoid dependency hell, please build your environment by docker.\n",
    "\n",
    "To create stable environment, we prepare docker image for you. Please read this document and build environment."
   ]
  },
  {
   "cell_type": "markdown",
   "metadata": {},
   "source": [
    "# ■What is the cytoscape and RCy3\n",
    "---------------------------------------\n",
    "\n",
    "## What is the cytoscape?\n",
    "\n",
    "Cytoscape is an open source software platform for visualizing molecular interaction networks and biological pathways and integrating these networks with annotations, gene expression profiles and other state data. Although Cytoscape was originally designed for biological research, now it is a general platform for complex network analysis and visualization.\n",
    "\n",
    "Cytoscape core distribution provides a basic set of features for data integration, analysis, and visualization.   Additional features are available as Apps (formerly called Plugins). Apps are available for network and molecular profiling analyses, new layouts, additional file format support, scripting, and connection with databases. They may be developed by anyone using the Cytoscape open API based on Java™ technology and App community development is encouraged. Most of the Apps are freely available from Cytoscape App Store.\n",
    "\n",
    "http://www.cytoscape.org/what_is_cytoscape.html\n",
    "\n",
    "http://www.cytoscape.org\n",
    "\n",
    "\n",
    "## What is the RCy3?\n",
    "\n",
    "R is a powerful programming language and environment for statistical and exploratory data analysis. RCy3 uses CyREST to communicate between R and Cytoscape, allowing Bioconductor graphs to be viewed, explored and manipulated with the Cytoscape point-and-click visual interface. Thus, via RCy3, these two quite different, quite useful bioinformatics software environments are connected, mutually enhancing each other, providing new possibilities for exploring biological data.\n",
    "\n",
    "https://bioconductor.org/packages/release/bioc/html/RCy3.html\n"
   ]
  },
  {
   "cell_type": "markdown",
   "metadata": {},
   "source": [
    "# ○The Cookbook contents\n",
    "---------------------------------------"
   ]
  },
  {
   "cell_type": "markdown",
   "metadata": {},
   "source": [
    "## ■Import\n",
    "---------------------------------------\n",
    "- Import Fixed-Format Network Files/URL\n",
    "  - http://manual.cytoscape.org/en/stable/Supported_Network_File_Formats.html#supported-network-file-formats\n",
    "  - Simple interaction file (SIF or .sif format)\n",
    "  - Nested network format (NNF or .nnf format)\n",
    "  - Graph Markup Language (GML or .gml format)\n",
    "  - XGMML (extensible graph markup and modelling language).\n",
    "  - SBML\n",
    "  - BioPAX\n",
    "  - PSI-MI Level 1 and 2.5\n",
    "  - GraphML\n",
    "  - Delimited text\n",
    "  - Excel Workbook (.xls, .xlsx)\n",
    "  - Cytoscape.js JSON\n",
    "\n",
    "- Import Annotation Data and merge it into Network data\n",
    "  - upload a network table, an edge attribute table and a node attribute table."
   ]
  },
  {
   "cell_type": "markdown",
   "metadata": {},
   "source": [
    "## ■Analysis\n",
    "---------------------------------------\n",
    "\n",
    "When you vizualize your network, you also want to analize the network. In this section, you can learn basic analysis methods to network. \n",
    "\n",
    "- Global Network Analysis\n",
    "    - Density\n",
    "    - Transivity\n",
    "    - community detection\n",
    "\n",
    "- Node Analysis\n",
    "    - Closeness\n",
    "    - Degree\n",
    "    - PageRank\n",
    "    - Between Centrary\n",
    "    - community detection\n",
    "\n",
    "- Edge Analysis\n",
    "    - EdgeBetweenness\n",
    "    - community detection"
   ]
  },
  {
   "cell_type": "markdown",
   "metadata": {},
   "source": [
    "## ■Layout\n",
    "---------------------------------------\n",
    "In this section, you can learn how to apply layout that you want to get to your network.\n",
    "\n",
    "- Get list of available layout\n",
    "- Apply layout\n",
    "- Save Layout"
   ]
  },
  {
   "cell_type": "markdown",
   "metadata": {},
   "source": [
    "## ■Style\n",
    "---------------------------------------\n",
    "\n",
    "- Default\n",
    "  - Get\n",
    "    - There are so many options, so I will pick some of them up and I will write a typical workflow.\n",
    "    For users, it will be useful and if they want to know more about it or more complex one, \n",
    "    they can use if as example.\n",
    "  \n",
    "  - Set\n",
    "    - Same as above\n",
    "\n",
    "- Direct\n",
    "  - Get\n",
    "    - same as above\n",
    "  - Set\n",
    "    - same as above\n",
    "\n",
    "- Rule\n",
    "  - Get\n",
    "    - same as above\n",
    "    \n",
    "  - Set\n",
    "    - same as above\n",
    "\n",
    "- Change style by attribute\n",
    "  - Nodes\n",
    "  - Edges"
   ]
  },
  {
   "cell_type": "markdown",
   "metadata": {},
   "source": [
    "## ■Export\n",
    "---------------------------------------\n",
    "\n",
    "If you layout some network as you want to do, you also want to export or save that Images, Layout or Network. RCy3 can help you to export such data programatically.\n",
    "\n",
    "In this section, you can learn how to save images, layout and network. It is very easy.\n",
    "\n",
    "- Save Images\n",
    "  we can choose the format of the saving image in R. Now, we can save Images as pdf, png or svg.\n",
    "  - pdf\n",
    "  - png\n",
    "  - svg\n",
    "\n",
    "- Save Layout\n",
    "  You can save layout as file.\n",
    "\n",
    "- Save Network\n",
    "  - cys\n"
   ]
  },
  {
   "cell_type": "markdown",
   "metadata": {
    "collapsed": true
   },
   "source": [
    "## ■Other methods\n",
    "---------------------------------------\n",
    "- Select\n",
    "  - edges\n",
    "  - nodes\n",
    "\n",
    "- Hide\n",
    "  - edges\n",
    "  - nodes\n",
    " \n",
    "- Clear Selection"
   ]
  }
 ],
 "metadata": {
  "kernelspec": {
   "display_name": "R",
   "language": "R",
   "name": "ir"
  },
  "language_info": {
   "codemirror_mode": "r",
   "file_extension": ".r",
   "mimetype": "text/x-r-source",
   "name": "R",
   "pygments_lexer": "r",
   "version": "3.2.3"
  }
 },
 "nbformat": 4,
 "nbformat_minor": 0
}
